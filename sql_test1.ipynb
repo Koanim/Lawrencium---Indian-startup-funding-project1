{
 "cells": [
  {
   "cell_type": "markdown",
   "metadata": {},
   "source": [
    "## Accessing your data from the database\n",
    "\n",
    "- Please follow the steps in this notebook to have access to the dataset. \n",
    "- If you encounter any challenges please leave an issue on this repo here on GitHub"
   ]
  },
  {
   "cell_type": "markdown",
   "metadata": {},
   "source": [
    "### Steps to take to use environment variables as opposed to credentials literals\n",
    "\n",
    "1. Install pyodbc  - a package for creating connection strings to your remote database server\n",
    "2. Install python-dotenv - a package for creating environment variables that will help you hide sensitve configuration informantion such as database credentials and API keys\n",
    "3. Import all the necessary libraies\n",
    "   1. pyodbc (for creating a connection)\n",
    "   2. python-dotenv (loading environment variables)\n",
    "   3. os (for accessing the environement variables using the load_env function. This is not needed if you use the dotenv_values function instead)\n",
    "4. Now create a file called .env in the root of your project folder (Note, the file name begins with a dot)\n",
    "5. In the .env file, put all your sensitive information like server name, database name, username, and password\n",
    "\n",
    "Example\n",
    "\n",
    "   - SERVER='server_name_here'\n",
    "   - DATABASE='database_name_here'\n",
    "   - USERNAME='username_here'\n",
    "   - PASSWORD='password_here'\n",
    "\n",
    "\n",
    "6. Next create a .gitignore file (a new file with the name `.gitignore`. Note that gitignore file names begin with a dot)\n",
    "7. Open the .gitignore file and type in the name of the .env file we just created like this \"/.env\". This will prevent git from tracking that file. Essesntially any file name in the gitignore file will be ignored by git and won't be checked into the repository\n",
    "8. Create a connection by accessing your connection string with your defined environment variables"
   ]
  },
  {
   "cell_type": "markdown",
   "metadata": {},
   "source": [
    "## Understanding the Business\n",
    "\n",
    "\n",
    "India has experienced a surge in startups and funding, with over 16,000 new tech companies added in 2020. Despite funding obstacles, investment firms have shown confidence in Indian startups, with a total funding of $8.4 billion in 2023. India's startup ecosystem soars with unprecedented growth and funding\n",
    "\n",
    "India's startup ecosystem, ranking third globally, boasts over 99,000 recognized startups and 108 unicorns valued at US$340.80 billion, with a bright future ahead\n",
    "\n",
    "The Indian startup ecosystem is built on several key pillars, including government support, access to capital, a growing talent pool, and a supportive culture for entrepreneurship. One of the most important factors driving the growth of startups in India is the government's focus on supporting entrepreneurship.\n",
    "\n",
    "The top three global ecosystems remain the same from 2020, with Silicon Valley at #1, followed by New York City and London tied at #2.\n",
    "\n",
    "\n",
    "-Venturing into the Indian start-ups ecosystem\n",
    "-To investigate the ecosystem and propose the best course of action\n",
    "\n",
    "-We will analyze funding recieved by start-ups in India from 2018 to 2021.\n",
    "\n",
    "-We will seek to ask the following questions to help us propose the best cousrse of action.\n"
   ]
  },
  {
   "cell_type": "markdown",
   "metadata": {},
   "source": [
    "### QUESTIONS\n",
    "\n",
    "1. Do older companies attract higher investment amounts than newer companies?\n",
    "2. Does the average number of founders in startups vary significantly across Mumabi and Noida?\n",
    "3. Is there a significant variation in the average funding amount received by companies across Seed and Angel?\n",
    "4. What is the average amount of funding recieved in 2018 compared to 2019\n",
    "5. Which recieved more funding on the average\n",
    "6. What is the average amount of funding recieved in 2020 compared to 2021\n",
    "7. Is the average amount recieved by startups in Bangalore more than that od New Delhi?"
   ]
  },
  {
   "cell_type": "markdown",
   "metadata": {},
   "source": [
    "## 1\n",
    "### Null Hypothesis : \n",
    "    Companies that are 10 years and above do not receive more than average amount\n",
    "        \n",
    "### Alternative Hypothesis : \n",
    "    Companies that are 10 years and above receive more than average amount\n",
    "\n",
    "## 2\n",
    "### Null Hypothesis:\n",
    "    The average number of founders is the same in Mumbai and Noida\n",
    "    \n",
    "### Alternative Hypothesis\n",
    "    The average number of founders is not the same in Mumbai and Noida\n",
    "  \n",
    "## 3\n",
    "### Null Hypothesis:\n",
    "    The average amount of funding recived in 2018 is more than or equal to that of 2019\n",
    "\n",
    "### Alternative Hypothesis:\n",
    "    The average amount of funding recieved in 2018 is less than that of 2019\n",
    "    \n",
    "## 4  \n",
    "### Null Hypothesis: \n",
    "    The average amount of funding recived in 2020 is more than or equal to that of 2021\n",
    "\n",
    "### Alternative Hypothesis: \n",
    "    The average amount of funding recieved in 2020 is less than that of 2021\n",
    "    \n",
    "## 5   \n",
    "### Null Hypothesis:\n",
    "    Companies belonging to Fintech recieved more than or equal to the average amount of funding\n",
    "    \n",
    "### Alternative Hypothesis:\n",
    "    Companies belonging to Fintech recieved less than to the average amount of funding \n",
    "    \n",
    "## 6    \n",
    "### Null Hypothesis:\n",
    "    The average amount of recieved by startups in Bangalore is more or equal to that of New Delhi\n",
    "    \n",
    "### Alternative Hypothesis:\n",
    "     The average amount of recieved by startups in Bangalore is less than that of New Delhi"
   ]
  },
  {
   "cell_type": "code",
   "execution_count": null,
   "metadata": {},
   "outputs": [],
   "source": []
  },
  {
   "cell_type": "markdown",
   "metadata": {},
   "source": [
    "#### Step 1 and 2 - Install pyodbc and python-dotenv"
   ]
  },
  {
   "cell_type": "markdown",
   "metadata": {},
   "source": [
    "#### Step 3 - Import all the necessary packages"
   ]
  },
  {
   "cell_type": "code",
   "execution_count": 4,
   "metadata": {
    "tags": []
   },
   "outputs": [],
   "source": [
    "import pyodbc\n",
    "import pymssql\n",
    "import pypyodbc\n",
    "\n",
    "from dotenv import dotenv_values    #import the dotenv_values function from the dotenv package\n",
    "import pandas as pd\n",
    "import numpy as np\n",
    "\n",
    "\n",
    "import warnings \n",
    "\n",
    "warnings.filterwarnings('ignore')\n"
   ]
  },
  {
   "cell_type": "markdown",
   "metadata": {},
   "source": [
    "#### Step 4 - Create your .env file in the root of your project"
   ]
  },
  {
   "cell_type": "markdown",
   "metadata": {},
   "source": [
    "#### Step 5 - In the .env file, put all your sensitive information like server name, password etc\n"
   ]
  },
  {
   "cell_type": "markdown",
   "metadata": {},
   "source": [
    "#### Step 6 & 7 - Next create a .gitignore file and type '/.env' file we just created. This will prevent git from tracking that file."
   ]
  },
  {
   "cell_type": "markdown",
   "metadata": {},
   "source": [
    "#### Step 8 - Create a connection by accessing your connection string with your defined environment variables"
   ]
  },
  {
   "cell_type": "code",
   "execution_count": 5,
   "metadata": {
    "tags": []
   },
   "outputs": [],
   "source": [
    "# Load environment variables from .env file into a dictionary\n",
    "environment_variables = dotenv_values('`.env`')\n",
    "\n",
    "# Get the values for the credentials you set in the '.env' file\n",
    "server = environment_variables.get(\"SERVER\")\n",
    "database = environment_variables.get(\"DATABASE\")\n",
    "username = environment_variables.get(\"USERNAME\")\n",
    "password = environment_variables.get(\"PASSWORD\")\n",
    "driver = environment_variables.get(\"DRIVER\")\n"
   ]
  },
  {
   "cell_type": "code",
   "execution_count": 6,
   "metadata": {
    "tags": []
   },
   "outputs": [],
   "source": [
    "# Create a connection string\n",
    "connection_string = f'DRIVER={driver};SERVER={server};DATABASE={database};UID={username};PWD={password}'\n"
   ]
  },
  {
   "cell_type": "code",
   "execution_count": 7,
   "metadata": {
    "tags": []
   },
   "outputs": [],
   "source": [
    "# Use the connect method of the pyodbc library and pass in the connection string.\n",
    "# This will connect to the server and might take a few seconds to be complete. \n",
    "# Check your internet connection if it takes more time than necessary\n",
    "\n",
    "connection = pyodbc.connect(connection_string)\n"
   ]
  },
  {
   "cell_type": "code",
   "execution_count": 8,
   "metadata": {
    "tags": []
   },
   "outputs": [
    {
     "data": {
      "text/html": [
       "<div>\n",
       "<style scoped>\n",
       "    .dataframe tbody tr th:only-of-type {\n",
       "        vertical-align: middle;\n",
       "    }\n",
       "\n",
       "    .dataframe tbody tr th {\n",
       "        vertical-align: top;\n",
       "    }\n",
       "\n",
       "    .dataframe thead th {\n",
       "        text-align: right;\n",
       "    }\n",
       "</style>\n",
       "<table border=\"1\" class=\"dataframe\">\n",
       "  <thead>\n",
       "    <tr style=\"text-align: right;\">\n",
       "      <th></th>\n",
       "      <th>Company_Brand</th>\n",
       "      <th>Founded</th>\n",
       "      <th>HeadQuarter</th>\n",
       "      <th>Sector</th>\n",
       "      <th>What_it_does</th>\n",
       "      <th>Founders</th>\n",
       "      <th>Investor</th>\n",
       "      <th>Amount</th>\n",
       "      <th>Stage</th>\n",
       "      <th>column10</th>\n",
       "    </tr>\n",
       "  </thead>\n",
       "  <tbody>\n",
       "    <tr>\n",
       "      <th>0</th>\n",
       "      <td>Aqgromalin</td>\n",
       "      <td>2019.0</td>\n",
       "      <td>Chennai</td>\n",
       "      <td>AgriTech</td>\n",
       "      <td>Cultivating Ideas for Profit</td>\n",
       "      <td>Prasanna Manogaran, Bharani C L</td>\n",
       "      <td>Angel investors</td>\n",
       "      <td>200000.0</td>\n",
       "      <td>None</td>\n",
       "      <td>None</td>\n",
       "    </tr>\n",
       "    <tr>\n",
       "      <th>1</th>\n",
       "      <td>Krayonnz</td>\n",
       "      <td>2019.0</td>\n",
       "      <td>Bangalore</td>\n",
       "      <td>EdTech</td>\n",
       "      <td>An academy-guardian-scholar centric ecosystem ...</td>\n",
       "      <td>Saurabh Dixit, Gurudutt Upadhyay</td>\n",
       "      <td>GSF Accelerator</td>\n",
       "      <td>100000.0</td>\n",
       "      <td>Pre-seed</td>\n",
       "      <td>None</td>\n",
       "    </tr>\n",
       "    <tr>\n",
       "      <th>2</th>\n",
       "      <td>PadCare Labs</td>\n",
       "      <td>2018.0</td>\n",
       "      <td>Pune</td>\n",
       "      <td>Hygiene management</td>\n",
       "      <td>Converting bio-hazardous waste to harmless waste</td>\n",
       "      <td>Ajinkya Dhariya</td>\n",
       "      <td>Venture Center</td>\n",
       "      <td>NaN</td>\n",
       "      <td>Pre-seed</td>\n",
       "      <td>None</td>\n",
       "    </tr>\n",
       "  </tbody>\n",
       "</table>\n",
       "</div>"
      ],
      "text/plain": [
       "  Company_Brand  Founded HeadQuarter              Sector  \\\n",
       "0    Aqgromalin   2019.0     Chennai            AgriTech   \n",
       "1      Krayonnz   2019.0   Bangalore              EdTech   \n",
       "2  PadCare Labs   2018.0        Pune  Hygiene management   \n",
       "\n",
       "                                        What_it_does  \\\n",
       "0                       Cultivating Ideas for Profit   \n",
       "1  An academy-guardian-scholar centric ecosystem ...   \n",
       "2   Converting bio-hazardous waste to harmless waste   \n",
       "\n",
       "                           Founders         Investor    Amount     Stage  \\\n",
       "0   Prasanna Manogaran, Bharani C L  Angel investors  200000.0      None   \n",
       "1  Saurabh Dixit, Gurudutt Upadhyay  GSF Accelerator  100000.0  Pre-seed   \n",
       "2                   Ajinkya Dhariya   Venture Center       NaN  Pre-seed   \n",
       "\n",
       "  column10  \n",
       "0     None  \n",
       "1     None  \n",
       "2     None  "
      ]
     },
     "execution_count": 8,
     "metadata": {},
     "output_type": "execute_result"
    }
   ],
   "source": [
    "# Now the sql query to get the data is what what you see below. \n",
    "# Note that you will not have permissions to insert delete or update this database table. \n",
    "\n",
    "query = \"SELECT * FROM dbo.LP1_startup_funding2020\"\n",
    "\n",
    "df_fund2020 = pd.read_sql(query, connection)\n",
    "df_fund2020.head(3)"
   ]
  },
  {
   "cell_type": "code",
   "execution_count": 9,
   "metadata": {
    "tags": []
   },
   "outputs": [
    {
     "data": {
      "text/html": [
       "<div>\n",
       "<style scoped>\n",
       "    .dataframe tbody tr th:only-of-type {\n",
       "        vertical-align: middle;\n",
       "    }\n",
       "\n",
       "    .dataframe tbody tr th {\n",
       "        vertical-align: top;\n",
       "    }\n",
       "\n",
       "    .dataframe thead th {\n",
       "        text-align: right;\n",
       "    }\n",
       "</style>\n",
       "<table border=\"1\" class=\"dataframe\">\n",
       "  <thead>\n",
       "    <tr style=\"text-align: right;\">\n",
       "      <th></th>\n",
       "      <th>Company_Brand</th>\n",
       "      <th>Founded</th>\n",
       "      <th>HeadQuarter</th>\n",
       "      <th>Sector</th>\n",
       "      <th>What_it_does</th>\n",
       "      <th>Founders</th>\n",
       "      <th>Investor</th>\n",
       "      <th>Amount</th>\n",
       "      <th>Stage</th>\n",
       "    </tr>\n",
       "  </thead>\n",
       "  <tbody>\n",
       "    <tr>\n",
       "      <th>0</th>\n",
       "      <td>Unbox Robotics</td>\n",
       "      <td>2019.0</td>\n",
       "      <td>Bangalore</td>\n",
       "      <td>AI startup</td>\n",
       "      <td>Unbox Robotics builds on-demand AI-driven ware...</td>\n",
       "      <td>Pramod Ghadge, Shahid Memon</td>\n",
       "      <td>BEENEXT, Entrepreneur First</td>\n",
       "      <td>$1,200,000</td>\n",
       "      <td>Pre-series A</td>\n",
       "    </tr>\n",
       "    <tr>\n",
       "      <th>1</th>\n",
       "      <td>upGrad</td>\n",
       "      <td>2015.0</td>\n",
       "      <td>Mumbai</td>\n",
       "      <td>EdTech</td>\n",
       "      <td>UpGrad is an online higher education platform.</td>\n",
       "      <td>Mayank Kumar, Phalgun Kompalli, Ravijot Chugh,...</td>\n",
       "      <td>Unilazer Ventures, IIFL Asset Management</td>\n",
       "      <td>$120,000,000</td>\n",
       "      <td>None</td>\n",
       "    </tr>\n",
       "    <tr>\n",
       "      <th>2</th>\n",
       "      <td>Lead School</td>\n",
       "      <td>2012.0</td>\n",
       "      <td>Mumbai</td>\n",
       "      <td>EdTech</td>\n",
       "      <td>LEAD School offers technology based school tra...</td>\n",
       "      <td>Smita Deorah, Sumeet Mehta</td>\n",
       "      <td>GSV Ventures, Westbridge Capital</td>\n",
       "      <td>$30,000,000</td>\n",
       "      <td>Series D</td>\n",
       "    </tr>\n",
       "  </tbody>\n",
       "</table>\n",
       "</div>"
      ],
      "text/plain": [
       "    Company_Brand  Founded HeadQuarter      Sector  \\\n",
       "0  Unbox Robotics   2019.0   Bangalore  AI startup   \n",
       "1          upGrad   2015.0      Mumbai      EdTech   \n",
       "2     Lead School   2012.0      Mumbai      EdTech   \n",
       "\n",
       "                                        What_it_does  \\\n",
       "0  Unbox Robotics builds on-demand AI-driven ware...   \n",
       "1     UpGrad is an online higher education platform.   \n",
       "2  LEAD School offers technology based school tra...   \n",
       "\n",
       "                                            Founders  \\\n",
       "0                        Pramod Ghadge, Shahid Memon   \n",
       "1  Mayank Kumar, Phalgun Kompalli, Ravijot Chugh,...   \n",
       "2                         Smita Deorah, Sumeet Mehta   \n",
       "\n",
       "                                   Investor        Amount         Stage  \n",
       "0               BEENEXT, Entrepreneur First    $1,200,000  Pre-series A  \n",
       "1  Unilazer Ventures, IIFL Asset Management  $120,000,000          None  \n",
       "2          GSV Ventures, Westbridge Capital   $30,000,000      Series D  "
      ]
     },
     "execution_count": 9,
     "metadata": {},
     "output_type": "execute_result"
    }
   ],
   "source": [
    "query1 = 'Select * from dbo.LP1_startup_funding2021'\n",
    "\n",
    "df_fund2021 = pd.read_sql(query1, connection)\n",
    "df_fund2021.head(3)"
   ]
  },
  {
   "cell_type": "markdown",
   "metadata": {},
   "source": [
    "Next, get data from other sources and concatenate (Depends on the project) to perform your analysis\n",
    "\n",
    "ALL THE BEST!!!"
   ]
  },
  {
   "cell_type": "markdown",
   "metadata": {},
   "source": []
  },
  {
   "cell_type": "code",
   "execution_count": 10,
   "metadata": {
    "tags": []
   },
   "outputs": [],
   "source": [
    "df_fund2018=pd.read_csv('startup_funding2018.csv')"
   ]
  },
  {
   "cell_type": "code",
   "execution_count": 11,
   "metadata": {
    "tags": []
   },
   "outputs": [],
   "source": [
    "df_fund2019=pd.read_csv('startup_funding2019.csv')\n"
   ]
  },
  {
   "cell_type": "code",
   "execution_count": 12,
   "metadata": {
    "tags": []
   },
   "outputs": [
    {
     "data": {
      "text/html": [
       "<div>\n",
       "<style scoped>\n",
       "    .dataframe tbody tr th:only-of-type {\n",
       "        vertical-align: middle;\n",
       "    }\n",
       "\n",
       "    .dataframe tbody tr th {\n",
       "        vertical-align: top;\n",
       "    }\n",
       "\n",
       "    .dataframe thead th {\n",
       "        text-align: right;\n",
       "    }\n",
       "</style>\n",
       "<table border=\"1\" class=\"dataframe\">\n",
       "  <thead>\n",
       "    <tr style=\"text-align: right;\">\n",
       "      <th></th>\n",
       "      <th>Company Name</th>\n",
       "      <th>Industry</th>\n",
       "      <th>Round/Series</th>\n",
       "      <th>Amount</th>\n",
       "      <th>Location</th>\n",
       "      <th>About Company</th>\n",
       "    </tr>\n",
       "  </thead>\n",
       "  <tbody>\n",
       "    <tr>\n",
       "      <th>0</th>\n",
       "      <td>TheCollegeFever</td>\n",
       "      <td>Brand Marketing, Event Promotion, Marketing, S...</td>\n",
       "      <td>Seed</td>\n",
       "      <td>250000</td>\n",
       "      <td>Bangalore, Karnataka, India</td>\n",
       "      <td>TheCollegeFever is a hub for fun, fiesta and f...</td>\n",
       "    </tr>\n",
       "    <tr>\n",
       "      <th>1</th>\n",
       "      <td>Happy Cow Dairy</td>\n",
       "      <td>Agriculture, Farming</td>\n",
       "      <td>Seed</td>\n",
       "      <td>₹40,000,000</td>\n",
       "      <td>Mumbai, Maharashtra, India</td>\n",
       "      <td>A startup which aggregates milk from dairy far...</td>\n",
       "    </tr>\n",
       "    <tr>\n",
       "      <th>2</th>\n",
       "      <td>MyLoanCare</td>\n",
       "      <td>Credit, Financial Services, Lending, Marketplace</td>\n",
       "      <td>Series A</td>\n",
       "      <td>₹65,000,000</td>\n",
       "      <td>Gurgaon, Haryana, India</td>\n",
       "      <td>Leading Online Loans Marketplace in India</td>\n",
       "    </tr>\n",
       "  </tbody>\n",
       "</table>\n",
       "</div>"
      ],
      "text/plain": [
       "      Company Name                                           Industry  \\\n",
       "0  TheCollegeFever  Brand Marketing, Event Promotion, Marketing, S...   \n",
       "1  Happy Cow Dairy                               Agriculture, Farming   \n",
       "2       MyLoanCare   Credit, Financial Services, Lending, Marketplace   \n",
       "\n",
       "  Round/Series       Amount                     Location  \\\n",
       "0         Seed       250000  Bangalore, Karnataka, India   \n",
       "1         Seed  ₹40,000,000   Mumbai, Maharashtra, India   \n",
       "2     Series A  ₹65,000,000      Gurgaon, Haryana, India   \n",
       "\n",
       "                                       About Company  \n",
       "0  TheCollegeFever is a hub for fun, fiesta and f...  \n",
       "1  A startup which aggregates milk from dairy far...  \n",
       "2          Leading Online Loans Marketplace in India  "
      ]
     },
     "execution_count": 12,
     "metadata": {},
     "output_type": "execute_result"
    }
   ],
   "source": [
    "df_fund2018.head(3)"
   ]
  },
  {
   "cell_type": "code",
   "execution_count": 13,
   "metadata": {
    "tags": []
   },
   "outputs": [
    {
     "data": {
      "text/html": [
       "<div>\n",
       "<style scoped>\n",
       "    .dataframe tbody tr th:only-of-type {\n",
       "        vertical-align: middle;\n",
       "    }\n",
       "\n",
       "    .dataframe tbody tr th {\n",
       "        vertical-align: top;\n",
       "    }\n",
       "\n",
       "    .dataframe thead th {\n",
       "        text-align: right;\n",
       "    }\n",
       "</style>\n",
       "<table border=\"1\" class=\"dataframe\">\n",
       "  <thead>\n",
       "    <tr style=\"text-align: right;\">\n",
       "      <th></th>\n",
       "      <th>Company/Brand</th>\n",
       "      <th>Founded</th>\n",
       "      <th>HeadQuarter</th>\n",
       "      <th>Sector</th>\n",
       "      <th>What it does</th>\n",
       "      <th>Founders</th>\n",
       "      <th>Investor</th>\n",
       "      <th>Amount($)</th>\n",
       "      <th>Stage</th>\n",
       "    </tr>\n",
       "  </thead>\n",
       "  <tbody>\n",
       "    <tr>\n",
       "      <th>0</th>\n",
       "      <td>Bombay Shaving</td>\n",
       "      <td>NaN</td>\n",
       "      <td>NaN</td>\n",
       "      <td>Ecommerce</td>\n",
       "      <td>Provides a range of male grooming products</td>\n",
       "      <td>Shantanu Deshpande</td>\n",
       "      <td>Sixth Sense Ventures</td>\n",
       "      <td>$6,300,000</td>\n",
       "      <td>NaN</td>\n",
       "    </tr>\n",
       "    <tr>\n",
       "      <th>1</th>\n",
       "      <td>Ruangguru</td>\n",
       "      <td>2014.0</td>\n",
       "      <td>Mumbai</td>\n",
       "      <td>Edtech</td>\n",
       "      <td>A learning platform that provides topic-based ...</td>\n",
       "      <td>Adamas Belva Syah Devara, Iman Usman.</td>\n",
       "      <td>General Atlantic</td>\n",
       "      <td>$150,000,000</td>\n",
       "      <td>Series C</td>\n",
       "    </tr>\n",
       "    <tr>\n",
       "      <th>2</th>\n",
       "      <td>Eduisfun</td>\n",
       "      <td>NaN</td>\n",
       "      <td>Mumbai</td>\n",
       "      <td>Edtech</td>\n",
       "      <td>It aims to make learning fun via games.</td>\n",
       "      <td>Jatin Solanki</td>\n",
       "      <td>Deepak Parekh, Amitabh Bachchan, Piyush Pandey</td>\n",
       "      <td>$28,000,000</td>\n",
       "      <td>Fresh funding</td>\n",
       "    </tr>\n",
       "  </tbody>\n",
       "</table>\n",
       "</div>"
      ],
      "text/plain": [
       "    Company/Brand  Founded HeadQuarter     Sector  \\\n",
       "0  Bombay Shaving      NaN         NaN  Ecommerce   \n",
       "1       Ruangguru   2014.0      Mumbai     Edtech   \n",
       "2        Eduisfun      NaN      Mumbai     Edtech   \n",
       "\n",
       "                                        What it does  \\\n",
       "0         Provides a range of male grooming products   \n",
       "1  A learning platform that provides topic-based ...   \n",
       "2            It aims to make learning fun via games.   \n",
       "\n",
       "                                Founders  \\\n",
       "0                     Shantanu Deshpande   \n",
       "1  Adamas Belva Syah Devara, Iman Usman.   \n",
       "2                          Jatin Solanki   \n",
       "\n",
       "                                         Investor     Amount($)          Stage  \n",
       "0                            Sixth Sense Ventures    $6,300,000            NaN  \n",
       "1                                General Atlantic  $150,000,000       Series C  \n",
       "2  Deepak Parekh, Amitabh Bachchan, Piyush Pandey   $28,000,000  Fresh funding  "
      ]
     },
     "execution_count": 13,
     "metadata": {},
     "output_type": "execute_result"
    }
   ],
   "source": [
    "df_fund2019.head(3)"
   ]
  },
  {
   "cell_type": "code",
   "execution_count": 14,
   "metadata": {
    "tags": []
   },
   "outputs": [
    {
     "data": {
      "text/html": [
       "<div>\n",
       "<style scoped>\n",
       "    .dataframe tbody tr th:only-of-type {\n",
       "        vertical-align: middle;\n",
       "    }\n",
       "\n",
       "    .dataframe tbody tr th {\n",
       "        vertical-align: top;\n",
       "    }\n",
       "\n",
       "    .dataframe thead th {\n",
       "        text-align: right;\n",
       "    }\n",
       "</style>\n",
       "<table border=\"1\" class=\"dataframe\">\n",
       "  <thead>\n",
       "    <tr style=\"text-align: right;\">\n",
       "      <th></th>\n",
       "      <th>Company_Brand</th>\n",
       "      <th>Founded</th>\n",
       "      <th>HeadQuarter</th>\n",
       "      <th>Sector</th>\n",
       "      <th>What_it_does</th>\n",
       "      <th>Founders</th>\n",
       "      <th>Investor</th>\n",
       "      <th>Amount</th>\n",
       "      <th>Stage</th>\n",
       "      <th>column10</th>\n",
       "    </tr>\n",
       "  </thead>\n",
       "  <tbody>\n",
       "    <tr>\n",
       "      <th>0</th>\n",
       "      <td>Aqgromalin</td>\n",
       "      <td>2019.0</td>\n",
       "      <td>Chennai</td>\n",
       "      <td>AgriTech</td>\n",
       "      <td>Cultivating Ideas for Profit</td>\n",
       "      <td>Prasanna Manogaran, Bharani C L</td>\n",
       "      <td>Angel investors</td>\n",
       "      <td>200000.0</td>\n",
       "      <td>None</td>\n",
       "      <td>None</td>\n",
       "    </tr>\n",
       "    <tr>\n",
       "      <th>1</th>\n",
       "      <td>Krayonnz</td>\n",
       "      <td>2019.0</td>\n",
       "      <td>Bangalore</td>\n",
       "      <td>EdTech</td>\n",
       "      <td>An academy-guardian-scholar centric ecosystem ...</td>\n",
       "      <td>Saurabh Dixit, Gurudutt Upadhyay</td>\n",
       "      <td>GSF Accelerator</td>\n",
       "      <td>100000.0</td>\n",
       "      <td>Pre-seed</td>\n",
       "      <td>None</td>\n",
       "    </tr>\n",
       "    <tr>\n",
       "      <th>2</th>\n",
       "      <td>PadCare Labs</td>\n",
       "      <td>2018.0</td>\n",
       "      <td>Pune</td>\n",
       "      <td>Hygiene management</td>\n",
       "      <td>Converting bio-hazardous waste to harmless waste</td>\n",
       "      <td>Ajinkya Dhariya</td>\n",
       "      <td>Venture Center</td>\n",
       "      <td>NaN</td>\n",
       "      <td>Pre-seed</td>\n",
       "      <td>None</td>\n",
       "    </tr>\n",
       "  </tbody>\n",
       "</table>\n",
       "</div>"
      ],
      "text/plain": [
       "  Company_Brand  Founded HeadQuarter              Sector  \\\n",
       "0    Aqgromalin   2019.0     Chennai            AgriTech   \n",
       "1      Krayonnz   2019.0   Bangalore              EdTech   \n",
       "2  PadCare Labs   2018.0        Pune  Hygiene management   \n",
       "\n",
       "                                        What_it_does  \\\n",
       "0                       Cultivating Ideas for Profit   \n",
       "1  An academy-guardian-scholar centric ecosystem ...   \n",
       "2   Converting bio-hazardous waste to harmless waste   \n",
       "\n",
       "                           Founders         Investor    Amount     Stage  \\\n",
       "0   Prasanna Manogaran, Bharani C L  Angel investors  200000.0      None   \n",
       "1  Saurabh Dixit, Gurudutt Upadhyay  GSF Accelerator  100000.0  Pre-seed   \n",
       "2                   Ajinkya Dhariya   Venture Center       NaN  Pre-seed   \n",
       "\n",
       "  column10  \n",
       "0     None  \n",
       "1     None  \n",
       "2     None  "
      ]
     },
     "execution_count": 14,
     "metadata": {},
     "output_type": "execute_result"
    }
   ],
   "source": [
    "df_fund2020.head(3)"
   ]
  },
  {
   "cell_type": "code",
   "execution_count": 15,
   "metadata": {
    "tags": []
   },
   "outputs": [
    {
     "data": {
      "text/html": [
       "<div>\n",
       "<style scoped>\n",
       "    .dataframe tbody tr th:only-of-type {\n",
       "        vertical-align: middle;\n",
       "    }\n",
       "\n",
       "    .dataframe tbody tr th {\n",
       "        vertical-align: top;\n",
       "    }\n",
       "\n",
       "    .dataframe thead th {\n",
       "        text-align: right;\n",
       "    }\n",
       "</style>\n",
       "<table border=\"1\" class=\"dataframe\">\n",
       "  <thead>\n",
       "    <tr style=\"text-align: right;\">\n",
       "      <th></th>\n",
       "      <th>Company_Brand</th>\n",
       "      <th>Founded</th>\n",
       "      <th>HeadQuarter</th>\n",
       "      <th>Sector</th>\n",
       "      <th>What_it_does</th>\n",
       "      <th>Founders</th>\n",
       "      <th>Investor</th>\n",
       "      <th>Amount</th>\n",
       "      <th>Stage</th>\n",
       "    </tr>\n",
       "  </thead>\n",
       "  <tbody>\n",
       "    <tr>\n",
       "      <th>0</th>\n",
       "      <td>Unbox Robotics</td>\n",
       "      <td>2019.0</td>\n",
       "      <td>Bangalore</td>\n",
       "      <td>AI startup</td>\n",
       "      <td>Unbox Robotics builds on-demand AI-driven ware...</td>\n",
       "      <td>Pramod Ghadge, Shahid Memon</td>\n",
       "      <td>BEENEXT, Entrepreneur First</td>\n",
       "      <td>$1,200,000</td>\n",
       "      <td>Pre-series A</td>\n",
       "    </tr>\n",
       "    <tr>\n",
       "      <th>1</th>\n",
       "      <td>upGrad</td>\n",
       "      <td>2015.0</td>\n",
       "      <td>Mumbai</td>\n",
       "      <td>EdTech</td>\n",
       "      <td>UpGrad is an online higher education platform.</td>\n",
       "      <td>Mayank Kumar, Phalgun Kompalli, Ravijot Chugh,...</td>\n",
       "      <td>Unilazer Ventures, IIFL Asset Management</td>\n",
       "      <td>$120,000,000</td>\n",
       "      <td>None</td>\n",
       "    </tr>\n",
       "    <tr>\n",
       "      <th>2</th>\n",
       "      <td>Lead School</td>\n",
       "      <td>2012.0</td>\n",
       "      <td>Mumbai</td>\n",
       "      <td>EdTech</td>\n",
       "      <td>LEAD School offers technology based school tra...</td>\n",
       "      <td>Smita Deorah, Sumeet Mehta</td>\n",
       "      <td>GSV Ventures, Westbridge Capital</td>\n",
       "      <td>$30,000,000</td>\n",
       "      <td>Series D</td>\n",
       "    </tr>\n",
       "  </tbody>\n",
       "</table>\n",
       "</div>"
      ],
      "text/plain": [
       "    Company_Brand  Founded HeadQuarter      Sector  \\\n",
       "0  Unbox Robotics   2019.0   Bangalore  AI startup   \n",
       "1          upGrad   2015.0      Mumbai      EdTech   \n",
       "2     Lead School   2012.0      Mumbai      EdTech   \n",
       "\n",
       "                                        What_it_does  \\\n",
       "0  Unbox Robotics builds on-demand AI-driven ware...   \n",
       "1     UpGrad is an online higher education platform.   \n",
       "2  LEAD School offers technology based school tra...   \n",
       "\n",
       "                                            Founders  \\\n",
       "0                        Pramod Ghadge, Shahid Memon   \n",
       "1  Mayank Kumar, Phalgun Kompalli, Ravijot Chugh,...   \n",
       "2                         Smita Deorah, Sumeet Mehta   \n",
       "\n",
       "                                   Investor        Amount         Stage  \n",
       "0               BEENEXT, Entrepreneur First    $1,200,000  Pre-series A  \n",
       "1  Unilazer Ventures, IIFL Asset Management  $120,000,000          None  \n",
       "2          GSV Ventures, Westbridge Capital   $30,000,000      Series D  "
      ]
     },
     "execution_count": 15,
     "metadata": {},
     "output_type": "execute_result"
    }
   ],
   "source": [
    "df_fund2021.head(3)"
   ]
  },
  {
   "cell_type": "markdown",
   "metadata": {},
   "source": [
    "#### We will create year column for each dataframe before concatenating to helps us identify which year funding was awarded"
   ]
  },
  {
   "cell_type": "code",
   "execution_count": 16,
   "metadata": {
    "tags": []
   },
   "outputs": [],
   "source": [
    "df_fund2018['Year']=2018\n",
    "df_fund2019['Year']=2019\n",
    "df_fund2020['Year']=2020\n",
    "df_fund2021['Year']=2021"
   ]
  },
  {
   "cell_type": "code",
   "execution_count": 17,
   "metadata": {
    "tags": []
   },
   "outputs": [
    {
     "name": "stdout",
     "output_type": "stream",
     "text": [
      "<class 'pandas.core.frame.DataFrame'>\n",
      "RangeIndex: 526 entries, 0 to 525\n",
      "Data columns (total 7 columns):\n",
      " #   Column         Non-Null Count  Dtype \n",
      "---  ------         --------------  ----- \n",
      " 0   Company Name   526 non-null    object\n",
      " 1   Industry       526 non-null    object\n",
      " 2   Round/Series   526 non-null    object\n",
      " 3   Amount         526 non-null    object\n",
      " 4   Location       526 non-null    object\n",
      " 5   About Company  526 non-null    object\n",
      " 6   Year           526 non-null    int64 \n",
      "dtypes: int64(1), object(6)\n",
      "memory usage: 28.9+ KB\n"
     ]
    }
   ],
   "source": [
    "df_fund2018.info()"
   ]
  },
  {
   "cell_type": "code",
   "execution_count": 18,
   "metadata": {
    "tags": []
   },
   "outputs": [
    {
     "name": "stdout",
     "output_type": "stream",
     "text": [
      "<class 'pandas.core.frame.DataFrame'>\n",
      "RangeIndex: 89 entries, 0 to 88\n",
      "Data columns (total 10 columns):\n",
      " #   Column         Non-Null Count  Dtype  \n",
      "---  ------         --------------  -----  \n",
      " 0   Company/Brand  89 non-null     object \n",
      " 1   Founded        60 non-null     float64\n",
      " 2   HeadQuarter    70 non-null     object \n",
      " 3   Sector         84 non-null     object \n",
      " 4   What it does   89 non-null     object \n",
      " 5   Founders       86 non-null     object \n",
      " 6   Investor       89 non-null     object \n",
      " 7   Amount($)      89 non-null     object \n",
      " 8   Stage          43 non-null     object \n",
      " 9   Year           89 non-null     int64  \n",
      "dtypes: float64(1), int64(1), object(8)\n",
      "memory usage: 7.1+ KB\n"
     ]
    }
   ],
   "source": [
    "df_fund2019.info()"
   ]
  },
  {
   "cell_type": "code",
   "execution_count": 19,
   "metadata": {
    "tags": []
   },
   "outputs": [
    {
     "name": "stdout",
     "output_type": "stream",
     "text": [
      "<class 'pandas.core.frame.DataFrame'>\n",
      "RangeIndex: 1055 entries, 0 to 1054\n",
      "Data columns (total 11 columns):\n",
      " #   Column         Non-Null Count  Dtype  \n",
      "---  ------         --------------  -----  \n",
      " 0   Company_Brand  1055 non-null   object \n",
      " 1   Founded        842 non-null    float64\n",
      " 2   HeadQuarter    961 non-null    object \n",
      " 3   Sector         1042 non-null   object \n",
      " 4   What_it_does   1055 non-null   object \n",
      " 5   Founders       1043 non-null   object \n",
      " 6   Investor       1017 non-null   object \n",
      " 7   Amount         801 non-null    float64\n",
      " 8   Stage          591 non-null    object \n",
      " 9   column10       2 non-null      object \n",
      " 10  Year           1055 non-null   int64  \n",
      "dtypes: float64(2), int64(1), object(8)\n",
      "memory usage: 90.8+ KB\n"
     ]
    }
   ],
   "source": [
    "df_fund2020.info()"
   ]
  },
  {
   "cell_type": "code",
   "execution_count": 20,
   "metadata": {
    "tags": []
   },
   "outputs": [
    {
     "name": "stdout",
     "output_type": "stream",
     "text": [
      "<class 'pandas.core.frame.DataFrame'>\n",
      "RangeIndex: 1209 entries, 0 to 1208\n",
      "Data columns (total 10 columns):\n",
      " #   Column         Non-Null Count  Dtype  \n",
      "---  ------         --------------  -----  \n",
      " 0   Company_Brand  1209 non-null   object \n",
      " 1   Founded        1208 non-null   float64\n",
      " 2   HeadQuarter    1208 non-null   object \n",
      " 3   Sector         1209 non-null   object \n",
      " 4   What_it_does   1209 non-null   object \n",
      " 5   Founders       1205 non-null   object \n",
      " 6   Investor       1147 non-null   object \n",
      " 7   Amount         1206 non-null   object \n",
      " 8   Stage          781 non-null    object \n",
      " 9   Year           1209 non-null   int64  \n",
      "dtypes: float64(1), int64(1), object(8)\n",
      "memory usage: 94.6+ KB\n"
     ]
    }
   ],
   "source": [
    "df_fund2021.info()"
   ]
  },
  {
   "cell_type": "markdown",
   "metadata": {},
   "source": [
    "### Observations\n",
    "\n",
    "- 'Company Name' in df_fund2018 is the same as 'Company/Brand' in df_fund2019, same as 'Company_Brand' in df_fund2020 and same as 'Company_Brand' in df_fund2021\n",
    "\n",
    "       - we will change Company Name in df_fund2018 to Company_Brand and Company/Brand in df_fund2019 will be change to Company_Brand.\n",
    "\n",
    "- Founded is in all dataframes except df_fund2018\n",
    "\n",
    "- We also observed that df_fund2018 contains Industry where as the remaining dataframes contains Sector, however after checking, we noticed the contain similar values.\n",
    "\n",
    "       - we change Industry in df_fund2018 to Sector\n",
    "    \n",
    "- We observed that Location and headquater looks the same, we have Headquarter in all dataframes except df_fund2018, which contains Location\n",
    "    \n",
    "    - We will change Headquarter to Location\n",
    "    \n",
    "- We observed stage in df_fund2019, df_fund2020, df_fund2021 have the same values as Round/Series in df_fund2018\n",
    "    \n",
    "    - we will change Round/Series in df_fund2018 to stage\n",
    "    \n",
    "- we observed Amount in df_fund2019 is Amount($), where as all other dataframes contain Amount\n",
    "    - we will change Amount($) to Amount\n",
    "    \n",
    "- we observed About Company in df_fund2018 has similar values as What_it_does in the remaining dataframes, in df_fund2019 there are no underscores\n",
    "    - we change all to About Company\n",
    "    \n",
    "\n",
    "- we observe Founders is in all dataframes except df_fund2018\n",
    "\n",
    "- we observe Investors is in all dataframes except df_fund2018\n",
    "\n",
    "- We observed df_fund2020 contains Column10 with null values\n",
    "\n",
    "    - we will drop column10\n",
    "\n",
    "\n"
   ]
  },
  {
   "cell_type": "code",
   "execution_count": 21,
   "metadata": {
    "tags": []
   },
   "outputs": [],
   "source": [
    "#Renaming the Columns for easy concatenation\n",
    "\n",
    "df_fund2018=df_fund2018.rename(columns={'Company Name': 'Company_Brand'})\n",
    "df_fund2018=df_fund2018.rename(columns={'Industry': 'Sector'})\n",
    "df_fund2018=df_fund2018.rename(columns={'Round/Series': 'Stage'})\n",
    "df_fund2019=df_fund2019.rename(columns={'Company/Brand': 'Company_Brand'})\n",
    "df_fund2019=df_fund2019.rename(columns={'HeadQuarter': 'Location'})\n",
    "df_fund2019=df_fund2019.rename(columns={'Amount($)': 'Amount'})\n",
    "df_fund2019=df_fund2019.rename(columns={'What it does': 'About Company'})\n",
    "df_fund2020=df_fund2020.rename(columns={'HeadQuarter': 'Location'})\n",
    "df_fund2020=df_fund2020.rename(columns={'What_it_does': 'About Company'})\n",
    "df_fund2021=df_fund2021.rename(columns={'HeadQuarter': 'Location'})\n",
    "df_fund2021=df_fund2021.rename(columns={'What_it_does': 'About Company'})"
   ]
  },
  {
   "cell_type": "markdown",
   "metadata": {},
   "source": [
    "### Cleaning the 2018 dataset"
   ]
  },
  {
   "cell_type": "raw",
   "metadata": {},
   "source": []
  },
  {
   "cell_type": "code",
   "execution_count": 22,
   "metadata": {
    "tags": []
   },
   "outputs": [],
   "source": [
    "#Making a copy of 2018 dataframe\n",
    "\n",
    "df18=df_fund2018.copy()"
   ]
  },
  {
   "cell_type": "code",
   "execution_count": 23,
   "metadata": {
    "tags": []
   },
   "outputs": [],
   "source": [
    "#Replacing the digits part of value with nothing\n",
    "\n",
    "df18['cur_symb18']=df18['Amount'].astype(str).replace(('\\d'), '', regex= True)"
   ]
  },
  {
   "cell_type": "code",
   "execution_count": 24,
   "metadata": {
    "tags": []
   },
   "outputs": [
    {
     "data": {
      "text/plain": [
       "array(['', '₹,,', '—', '₹,', '$,', '$,,', '₹,,,', '$,,,'], dtype=object)"
      ]
     },
     "execution_count": 24,
     "metadata": {},
     "output_type": "execute_result"
    }
   ],
   "source": [
    "#Checking the unique currency symbols \n",
    "\n",
    "df18['cur_symb18'].unique()"
   ]
  },
  {
   "cell_type": "code",
   "execution_count": 25,
   "metadata": {
    "tags": []
   },
   "outputs": [],
   "source": [
    "# Replacing the symbols with nothing\n",
    "\n",
    "df18['Amount_no_symb18']=df18['Amount'].astype(str).replace('\\D', '', regex= True)"
   ]
  },
  {
   "cell_type": "code",
   "execution_count": 26,
   "metadata": {
    "tags": []
   },
   "outputs": [
    {
     "data": {
      "text/html": [
       "<div>\n",
       "<style scoped>\n",
       "    .dataframe tbody tr th:only-of-type {\n",
       "        vertical-align: middle;\n",
       "    }\n",
       "\n",
       "    .dataframe tbody tr th {\n",
       "        vertical-align: top;\n",
       "    }\n",
       "\n",
       "    .dataframe thead th {\n",
       "        text-align: right;\n",
       "    }\n",
       "</style>\n",
       "<table border=\"1\" class=\"dataframe\">\n",
       "  <thead>\n",
       "    <tr style=\"text-align: right;\">\n",
       "      <th></th>\n",
       "      <th>Company_Brand</th>\n",
       "      <th>Sector</th>\n",
       "      <th>Stage</th>\n",
       "      <th>Amount</th>\n",
       "      <th>Location</th>\n",
       "      <th>About Company</th>\n",
       "      <th>Year</th>\n",
       "      <th>cur_symb18</th>\n",
       "      <th>Amount_no_symb18</th>\n",
       "    </tr>\n",
       "  </thead>\n",
       "  <tbody>\n",
       "    <tr>\n",
       "      <th>0</th>\n",
       "      <td>TheCollegeFever</td>\n",
       "      <td>Brand Marketing, Event Promotion, Marketing, S...</td>\n",
       "      <td>Seed</td>\n",
       "      <td>250000</td>\n",
       "      <td>Bangalore, Karnataka, India</td>\n",
       "      <td>TheCollegeFever is a hub for fun, fiesta and f...</td>\n",
       "      <td>2018</td>\n",
       "      <td></td>\n",
       "      <td>250000</td>\n",
       "    </tr>\n",
       "    <tr>\n",
       "      <th>1</th>\n",
       "      <td>Happy Cow Dairy</td>\n",
       "      <td>Agriculture, Farming</td>\n",
       "      <td>Seed</td>\n",
       "      <td>₹40,000,000</td>\n",
       "      <td>Mumbai, Maharashtra, India</td>\n",
       "      <td>A startup which aggregates milk from dairy far...</td>\n",
       "      <td>2018</td>\n",
       "      <td>₹,,</td>\n",
       "      <td>40000000</td>\n",
       "    </tr>\n",
       "  </tbody>\n",
       "</table>\n",
       "</div>"
      ],
      "text/plain": [
       "     Company_Brand                                             Sector Stage  \\\n",
       "0  TheCollegeFever  Brand Marketing, Event Promotion, Marketing, S...  Seed   \n",
       "1  Happy Cow Dairy                               Agriculture, Farming  Seed   \n",
       "\n",
       "        Amount                     Location  \\\n",
       "0       250000  Bangalore, Karnataka, India   \n",
       "1  ₹40,000,000   Mumbai, Maharashtra, India   \n",
       "\n",
       "                                       About Company  Year cur_symb18  \\\n",
       "0  TheCollegeFever is a hub for fun, fiesta and f...  2018              \n",
       "1  A startup which aggregates milk from dairy far...  2018        ₹,,   \n",
       "\n",
       "  Amount_no_symb18  \n",
       "0           250000  \n",
       "1         40000000  "
      ]
     },
     "execution_count": 26,
     "metadata": {},
     "output_type": "execute_result"
    }
   ],
   "source": [
    "#Checking to confirm changes were effected\n",
    "\n",
    "df18.head(2)"
   ]
  },
  {
   "cell_type": "code",
   "execution_count": 27,
   "metadata": {
    "tags": []
   },
   "outputs": [
    {
     "name": "stdout",
     "output_type": "stream",
     "text": [
      "<class 'pandas.core.frame.DataFrame'>\n",
      "RangeIndex: 526 entries, 0 to 525\n",
      "Data columns (total 9 columns):\n",
      " #   Column            Non-Null Count  Dtype \n",
      "---  ------            --------------  ----- \n",
      " 0   Company_Brand     526 non-null    object\n",
      " 1   Sector            526 non-null    object\n",
      " 2   Stage             526 non-null    object\n",
      " 3   Amount            526 non-null    object\n",
      " 4   Location          526 non-null    object\n",
      " 5   About Company     526 non-null    object\n",
      " 6   Year              526 non-null    int64 \n",
      " 7   cur_symb18        526 non-null    object\n",
      " 8   Amount_no_symb18  526 non-null    object\n",
      "dtypes: int64(1), object(8)\n",
      "memory usage: 37.1+ KB\n"
     ]
    }
   ],
   "source": [
    "#Confirming the datatypes\n",
    "\n",
    "df18.info()"
   ]
  },
  {
   "cell_type": "code",
   "execution_count": 28,
   "metadata": {
    "tags": []
   },
   "outputs": [],
   "source": [
    "#droping the amount column with symbol\n",
    "\n",
    "df18=df18.drop('Amount',axis=1)"
   ]
  },
  {
   "cell_type": "code",
   "execution_count": 29,
   "metadata": {
    "tags": []
   },
   "outputs": [],
   "source": [
    "# Renaming columns\n",
    "\n",
    "df18=df18.rename(columns={'Amount_no_symb18':'Amount'})\n",
    "df18=df18.rename(columns={'cur_symb18':'Currency'})"
   ]
  },
  {
   "cell_type": "code",
   "execution_count": 30,
   "metadata": {
    "tags": []
   },
   "outputs": [
    {
     "data": {
      "text/html": [
       "<div>\n",
       "<style scoped>\n",
       "    .dataframe tbody tr th:only-of-type {\n",
       "        vertical-align: middle;\n",
       "    }\n",
       "\n",
       "    .dataframe tbody tr th {\n",
       "        vertical-align: top;\n",
       "    }\n",
       "\n",
       "    .dataframe thead th {\n",
       "        text-align: right;\n",
       "    }\n",
       "</style>\n",
       "<table border=\"1\" class=\"dataframe\">\n",
       "  <thead>\n",
       "    <tr style=\"text-align: right;\">\n",
       "      <th></th>\n",
       "      <th>Company_Brand</th>\n",
       "      <th>Sector</th>\n",
       "      <th>Stage</th>\n",
       "      <th>Location</th>\n",
       "      <th>About Company</th>\n",
       "      <th>Year</th>\n",
       "      <th>Currency</th>\n",
       "      <th>Amount</th>\n",
       "    </tr>\n",
       "  </thead>\n",
       "  <tbody>\n",
       "    <tr>\n",
       "      <th>0</th>\n",
       "      <td>TheCollegeFever</td>\n",
       "      <td>Brand Marketing, Event Promotion, Marketing, S...</td>\n",
       "      <td>Seed</td>\n",
       "      <td>Bangalore, Karnataka, India</td>\n",
       "      <td>TheCollegeFever is a hub for fun, fiesta and f...</td>\n",
       "      <td>2018</td>\n",
       "      <td></td>\n",
       "      <td>250000</td>\n",
       "    </tr>\n",
       "    <tr>\n",
       "      <th>1</th>\n",
       "      <td>Happy Cow Dairy</td>\n",
       "      <td>Agriculture, Farming</td>\n",
       "      <td>Seed</td>\n",
       "      <td>Mumbai, Maharashtra, India</td>\n",
       "      <td>A startup which aggregates milk from dairy far...</td>\n",
       "      <td>2018</td>\n",
       "      <td>₹,,</td>\n",
       "      <td>40000000</td>\n",
       "    </tr>\n",
       "    <tr>\n",
       "      <th>2</th>\n",
       "      <td>MyLoanCare</td>\n",
       "      <td>Credit, Financial Services, Lending, Marketplace</td>\n",
       "      <td>Series A</td>\n",
       "      <td>Gurgaon, Haryana, India</td>\n",
       "      <td>Leading Online Loans Marketplace in India</td>\n",
       "      <td>2018</td>\n",
       "      <td>₹,,</td>\n",
       "      <td>65000000</td>\n",
       "    </tr>\n",
       "  </tbody>\n",
       "</table>\n",
       "</div>"
      ],
      "text/plain": [
       "     Company_Brand                                             Sector  \\\n",
       "0  TheCollegeFever  Brand Marketing, Event Promotion, Marketing, S...   \n",
       "1  Happy Cow Dairy                               Agriculture, Farming   \n",
       "2       MyLoanCare   Credit, Financial Services, Lending, Marketplace   \n",
       "\n",
       "      Stage                     Location  \\\n",
       "0      Seed  Bangalore, Karnataka, India   \n",
       "1      Seed   Mumbai, Maharashtra, India   \n",
       "2  Series A      Gurgaon, Haryana, India   \n",
       "\n",
       "                                       About Company  Year Currency    Amount  \n",
       "0  TheCollegeFever is a hub for fun, fiesta and f...  2018             250000  \n",
       "1  A startup which aggregates milk from dairy far...  2018      ₹,,  40000000  \n",
       "2          Leading Online Loans Marketplace in India  2018      ₹,,  65000000  "
      ]
     },
     "execution_count": 30,
     "metadata": {},
     "output_type": "execute_result"
    }
   ],
   "source": [
    "#Confirming changes\n",
    "\n",
    "df18.head(3)"
   ]
  },
  {
   "cell_type": "code",
   "execution_count": 31,
   "metadata": {
    "tags": []
   },
   "outputs": [],
   "source": [
    "#Changing Amount from object datatype to numeric type\n",
    "\n",
    "df18['Amount']=pd.to_numeric(df18['Amount'])"
   ]
  },
  {
   "cell_type": "code",
   "execution_count": 32,
   "metadata": {
    "tags": []
   },
   "outputs": [
    {
     "name": "stdout",
     "output_type": "stream",
     "text": [
      "<class 'pandas.core.frame.DataFrame'>\n",
      "RangeIndex: 526 entries, 0 to 525\n",
      "Data columns (total 8 columns):\n",
      " #   Column         Non-Null Count  Dtype  \n",
      "---  ------         --------------  -----  \n",
      " 0   Company_Brand  526 non-null    object \n",
      " 1   Sector         526 non-null    object \n",
      " 2   Stage          526 non-null    object \n",
      " 3   Location       526 non-null    object \n",
      " 4   About Company  526 non-null    object \n",
      " 5   Year           526 non-null    int64  \n",
      " 6   Currency       526 non-null    object \n",
      " 7   Amount         378 non-null    float64\n",
      "dtypes: float64(1), int64(1), object(6)\n",
      "memory usage: 33.0+ KB\n"
     ]
    }
   ],
   "source": [
    "# Confirming changes\n",
    "\n",
    "df18.info()"
   ]
  },
  {
   "cell_type": "code",
   "execution_count": 33,
   "metadata": {
    "tags": []
   },
   "outputs": [],
   "source": [
    "df18['Currency']=df18['Currency'].str.replace(',','')"
   ]
  },
  {
   "cell_type": "code",
   "execution_count": 34,
   "metadata": {
    "tags": []
   },
   "outputs": [
    {
     "data": {
      "text/plain": [
       "Currency\n",
       "     1.219853e+07\n",
       "$    5.535524e+07\n",
       "—             NaN\n",
       "₹    5.903119e+08\n",
       "Name: Amount, dtype: float64"
      ]
     },
     "execution_count": 34,
     "metadata": {},
     "output_type": "execute_result"
    }
   ],
   "source": [
    "currency_value=df18.groupby('Currency')['Amount'].mean()\n",
    "currency_value"
   ]
  },
  {
   "cell_type": "code",
   "execution_count": 35,
   "metadata": {
    "tags": []
   },
   "outputs": [],
   "source": [
    "'''in order to have The location of 2018 dataset to correspond with \n",
    "the other three dataset which have only one city as loaction, we picked \n",
    "the first city in the location column and dropped the remaining'''  \n",
    "\n",
    "df18['Location'] = df18['Location'].str.split(',').str.get(0) \n"
   ]
  },
  {
   "cell_type": "code",
   "execution_count": 36,
   "metadata": {
    "tags": []
   },
   "outputs": [
    {
     "data": {
      "text/html": [
       "<div>\n",
       "<style scoped>\n",
       "    .dataframe tbody tr th:only-of-type {\n",
       "        vertical-align: middle;\n",
       "    }\n",
       "\n",
       "    .dataframe tbody tr th {\n",
       "        vertical-align: top;\n",
       "    }\n",
       "\n",
       "    .dataframe thead th {\n",
       "        text-align: right;\n",
       "    }\n",
       "</style>\n",
       "<table border=\"1\" class=\"dataframe\">\n",
       "  <thead>\n",
       "    <tr style=\"text-align: right;\">\n",
       "      <th></th>\n",
       "      <th>Company_Brand</th>\n",
       "      <th>Sector</th>\n",
       "      <th>Stage</th>\n",
       "      <th>Location</th>\n",
       "      <th>About Company</th>\n",
       "      <th>Year</th>\n",
       "      <th>Currency</th>\n",
       "      <th>Amount</th>\n",
       "    </tr>\n",
       "  </thead>\n",
       "  <tbody>\n",
       "    <tr>\n",
       "      <th>0</th>\n",
       "      <td>TheCollegeFever</td>\n",
       "      <td>Brand Marketing, Event Promotion, Marketing, S...</td>\n",
       "      <td>Seed</td>\n",
       "      <td>Bangalore</td>\n",
       "      <td>TheCollegeFever is a hub for fun, fiesta and f...</td>\n",
       "      <td>2018</td>\n",
       "      <td></td>\n",
       "      <td>250000.0</td>\n",
       "    </tr>\n",
       "    <tr>\n",
       "      <th>1</th>\n",
       "      <td>Happy Cow Dairy</td>\n",
       "      <td>Agriculture, Farming</td>\n",
       "      <td>Seed</td>\n",
       "      <td>Mumbai</td>\n",
       "      <td>A startup which aggregates milk from dairy far...</td>\n",
       "      <td>2018</td>\n",
       "      <td>₹</td>\n",
       "      <td>40000000.0</td>\n",
       "    </tr>\n",
       "    <tr>\n",
       "      <th>2</th>\n",
       "      <td>MyLoanCare</td>\n",
       "      <td>Credit, Financial Services, Lending, Marketplace</td>\n",
       "      <td>Series A</td>\n",
       "      <td>Gurgaon</td>\n",
       "      <td>Leading Online Loans Marketplace in India</td>\n",
       "      <td>2018</td>\n",
       "      <td>₹</td>\n",
       "      <td>65000000.0</td>\n",
       "    </tr>\n",
       "    <tr>\n",
       "      <th>3</th>\n",
       "      <td>PayMe India</td>\n",
       "      <td>Financial Services, FinTech</td>\n",
       "      <td>Angel</td>\n",
       "      <td>Noida</td>\n",
       "      <td>PayMe India is an innovative FinTech organizat...</td>\n",
       "      <td>2018</td>\n",
       "      <td></td>\n",
       "      <td>2000000.0</td>\n",
       "    </tr>\n",
       "    <tr>\n",
       "      <th>4</th>\n",
       "      <td>Eunimart</td>\n",
       "      <td>E-Commerce Platforms, Retail, SaaS</td>\n",
       "      <td>Seed</td>\n",
       "      <td>Hyderabad</td>\n",
       "      <td>Eunimart is a one stop solution for merchants ...</td>\n",
       "      <td>2018</td>\n",
       "      <td>—</td>\n",
       "      <td>NaN</td>\n",
       "    </tr>\n",
       "  </tbody>\n",
       "</table>\n",
       "</div>"
      ],
      "text/plain": [
       "     Company_Brand                                             Sector  \\\n",
       "0  TheCollegeFever  Brand Marketing, Event Promotion, Marketing, S...   \n",
       "1  Happy Cow Dairy                               Agriculture, Farming   \n",
       "2       MyLoanCare   Credit, Financial Services, Lending, Marketplace   \n",
       "3      PayMe India                        Financial Services, FinTech   \n",
       "4         Eunimart                 E-Commerce Platforms, Retail, SaaS   \n",
       "\n",
       "      Stage   Location                                      About Company  \\\n",
       "0      Seed  Bangalore  TheCollegeFever is a hub for fun, fiesta and f...   \n",
       "1      Seed     Mumbai  A startup which aggregates milk from dairy far...   \n",
       "2  Series A    Gurgaon          Leading Online Loans Marketplace in India   \n",
       "3     Angel      Noida  PayMe India is an innovative FinTech organizat...   \n",
       "4      Seed  Hyderabad  Eunimart is a one stop solution for merchants ...   \n",
       "\n",
       "   Year Currency      Amount  \n",
       "0  2018             250000.0  \n",
       "1  2018        ₹  40000000.0  \n",
       "2  2018        ₹  65000000.0  \n",
       "3  2018            2000000.0  \n",
       "4  2018        —         NaN  "
      ]
     },
     "execution_count": 36,
     "metadata": {},
     "output_type": "execute_result"
    }
   ],
   "source": [
    "df18.head()"
   ]
  },
  {
   "cell_type": "markdown",
   "metadata": {},
   "source": [
    "#### converting rupees to dollars\n",
    "\n",
    "- We noticed apart from 2020 dataset which has no currency symbol, 2019 and 2021 had dollar symbols\n",
    "\n",
    "- we noticed that 2018 had both dollar and rupee symbols, since dollar is the dominant currency we decided to convert the rupees to dollars.\n",
    "    The Average exchange rate in 2018 was 0.0146 USD (https://www.exchangerates.org.uk/INR-USD-spot-exchange-rates-history-2018.html).\n",
    "    \n",
    "- We also decided to assume where the currency is empty was dollar. "
   ]
  },
  {
   "cell_type": "code",
   "execution_count": 37,
   "metadata": {
    "tags": []
   },
   "outputs": [
    {
     "data": {
      "text/html": [
       "<div>\n",
       "<style scoped>\n",
       "    .dataframe tbody tr th:only-of-type {\n",
       "        vertical-align: middle;\n",
       "    }\n",
       "\n",
       "    .dataframe tbody tr th {\n",
       "        vertical-align: top;\n",
       "    }\n",
       "\n",
       "    .dataframe thead th {\n",
       "        text-align: right;\n",
       "    }\n",
       "</style>\n",
       "<table border=\"1\" class=\"dataframe\">\n",
       "  <thead>\n",
       "    <tr style=\"text-align: right;\">\n",
       "      <th></th>\n",
       "      <th>Company_Brand</th>\n",
       "      <th>Sector</th>\n",
       "      <th>Stage</th>\n",
       "      <th>Location</th>\n",
       "      <th>About Company</th>\n",
       "      <th>Year</th>\n",
       "      <th>Currency</th>\n",
       "      <th>Amount</th>\n",
       "    </tr>\n",
       "  </thead>\n",
       "  <tbody>\n",
       "    <tr>\n",
       "      <th>0</th>\n",
       "      <td>TheCollegeFever</td>\n",
       "      <td>Brand Marketing, Event Promotion, Marketing, S...</td>\n",
       "      <td>Seed</td>\n",
       "      <td>Bangalore</td>\n",
       "      <td>TheCollegeFever is a hub for fun, fiesta and f...</td>\n",
       "      <td>2018</td>\n",
       "      <td></td>\n",
       "      <td>250000.0</td>\n",
       "    </tr>\n",
       "    <tr>\n",
       "      <th>1</th>\n",
       "      <td>Happy Cow Dairy</td>\n",
       "      <td>Agriculture, Farming</td>\n",
       "      <td>Seed</td>\n",
       "      <td>Mumbai</td>\n",
       "      <td>A startup which aggregates milk from dairy far...</td>\n",
       "      <td>2018</td>\n",
       "      <td>₹</td>\n",
       "      <td>584000.0</td>\n",
       "    </tr>\n",
       "    <tr>\n",
       "      <th>2</th>\n",
       "      <td>MyLoanCare</td>\n",
       "      <td>Credit, Financial Services, Lending, Marketplace</td>\n",
       "      <td>Series A</td>\n",
       "      <td>Gurgaon</td>\n",
       "      <td>Leading Online Loans Marketplace in India</td>\n",
       "      <td>2018</td>\n",
       "      <td>₹</td>\n",
       "      <td>949000.0</td>\n",
       "    </tr>\n",
       "    <tr>\n",
       "      <th>3</th>\n",
       "      <td>PayMe India</td>\n",
       "      <td>Financial Services, FinTech</td>\n",
       "      <td>Angel</td>\n",
       "      <td>Noida</td>\n",
       "      <td>PayMe India is an innovative FinTech organizat...</td>\n",
       "      <td>2018</td>\n",
       "      <td></td>\n",
       "      <td>2000000.0</td>\n",
       "    </tr>\n",
       "    <tr>\n",
       "      <th>4</th>\n",
       "      <td>Eunimart</td>\n",
       "      <td>E-Commerce Platforms, Retail, SaaS</td>\n",
       "      <td>Seed</td>\n",
       "      <td>Hyderabad</td>\n",
       "      <td>Eunimart is a one stop solution for merchants ...</td>\n",
       "      <td>2018</td>\n",
       "      <td>—</td>\n",
       "      <td>NaN</td>\n",
       "    </tr>\n",
       "  </tbody>\n",
       "</table>\n",
       "</div>"
      ],
      "text/plain": [
       "     Company_Brand                                             Sector  \\\n",
       "0  TheCollegeFever  Brand Marketing, Event Promotion, Marketing, S...   \n",
       "1  Happy Cow Dairy                               Agriculture, Farming   \n",
       "2       MyLoanCare   Credit, Financial Services, Lending, Marketplace   \n",
       "3      PayMe India                        Financial Services, FinTech   \n",
       "4         Eunimart                 E-Commerce Platforms, Retail, SaaS   \n",
       "\n",
       "      Stage   Location                                      About Company  \\\n",
       "0      Seed  Bangalore  TheCollegeFever is a hub for fun, fiesta and f...   \n",
       "1      Seed     Mumbai  A startup which aggregates milk from dairy far...   \n",
       "2  Series A    Gurgaon          Leading Online Loans Marketplace in India   \n",
       "3     Angel      Noida  PayMe India is an innovative FinTech organizat...   \n",
       "4      Seed  Hyderabad  Eunimart is a one stop solution for merchants ...   \n",
       "\n",
       "   Year Currency     Amount  \n",
       "0  2018            250000.0  \n",
       "1  2018        ₹   584000.0  \n",
       "2  2018        ₹   949000.0  \n",
       "3  2018           2000000.0  \n",
       "4  2018        —        NaN  "
      ]
     },
     "execution_count": 37,
     "metadata": {},
     "output_type": "execute_result"
    }
   ],
   "source": [
    "# Exchange rate of rupee to dollars\n",
    "\n",
    "exchange_rate = 0.0146\n",
    "# convert exchange_rate from rupees to dollars and make a change to values with rupee symbol\n",
    "df18.loc[df18['Currency'] == '₹', 'Amount'] *= exchange_rate\n",
    "df18.head()"
   ]
  },
  {
   "cell_type": "code",
   "execution_count": 38,
   "metadata": {
    "tags": []
   },
   "outputs": [],
   "source": [
    "df18['Currency']='$'"
   ]
  },
  {
   "cell_type": "code",
   "execution_count": 39,
   "metadata": {
    "tags": []
   },
   "outputs": [
    {
     "data": {
      "text/html": [
       "<div>\n",
       "<style scoped>\n",
       "    .dataframe tbody tr th:only-of-type {\n",
       "        vertical-align: middle;\n",
       "    }\n",
       "\n",
       "    .dataframe tbody tr th {\n",
       "        vertical-align: top;\n",
       "    }\n",
       "\n",
       "    .dataframe thead th {\n",
       "        text-align: right;\n",
       "    }\n",
       "</style>\n",
       "<table border=\"1\" class=\"dataframe\">\n",
       "  <thead>\n",
       "    <tr style=\"text-align: right;\">\n",
       "      <th></th>\n",
       "      <th>Company_Brand</th>\n",
       "      <th>Sector</th>\n",
       "      <th>Stage</th>\n",
       "      <th>Location</th>\n",
       "      <th>About Company</th>\n",
       "      <th>Year</th>\n",
       "      <th>Currency</th>\n",
       "      <th>Amount</th>\n",
       "    </tr>\n",
       "  </thead>\n",
       "  <tbody>\n",
       "    <tr>\n",
       "      <th>0</th>\n",
       "      <td>TheCollegeFever</td>\n",
       "      <td>Brand Marketing, Event Promotion, Marketing, S...</td>\n",
       "      <td>Seed</td>\n",
       "      <td>Bangalore</td>\n",
       "      <td>TheCollegeFever is a hub for fun, fiesta and f...</td>\n",
       "      <td>2018</td>\n",
       "      <td>$</td>\n",
       "      <td>250000.0</td>\n",
       "    </tr>\n",
       "    <tr>\n",
       "      <th>1</th>\n",
       "      <td>Happy Cow Dairy</td>\n",
       "      <td>Agriculture, Farming</td>\n",
       "      <td>Seed</td>\n",
       "      <td>Mumbai</td>\n",
       "      <td>A startup which aggregates milk from dairy far...</td>\n",
       "      <td>2018</td>\n",
       "      <td>$</td>\n",
       "      <td>584000.0</td>\n",
       "    </tr>\n",
       "    <tr>\n",
       "      <th>2</th>\n",
       "      <td>MyLoanCare</td>\n",
       "      <td>Credit, Financial Services, Lending, Marketplace</td>\n",
       "      <td>Series A</td>\n",
       "      <td>Gurgaon</td>\n",
       "      <td>Leading Online Loans Marketplace in India</td>\n",
       "      <td>2018</td>\n",
       "      <td>$</td>\n",
       "      <td>949000.0</td>\n",
       "    </tr>\n",
       "    <tr>\n",
       "      <th>3</th>\n",
       "      <td>PayMe India</td>\n",
       "      <td>Financial Services, FinTech</td>\n",
       "      <td>Angel</td>\n",
       "      <td>Noida</td>\n",
       "      <td>PayMe India is an innovative FinTech organizat...</td>\n",
       "      <td>2018</td>\n",
       "      <td>$</td>\n",
       "      <td>2000000.0</td>\n",
       "    </tr>\n",
       "    <tr>\n",
       "      <th>4</th>\n",
       "      <td>Eunimart</td>\n",
       "      <td>E-Commerce Platforms, Retail, SaaS</td>\n",
       "      <td>Seed</td>\n",
       "      <td>Hyderabad</td>\n",
       "      <td>Eunimart is a one stop solution for merchants ...</td>\n",
       "      <td>2018</td>\n",
       "      <td>$</td>\n",
       "      <td>NaN</td>\n",
       "    </tr>\n",
       "  </tbody>\n",
       "</table>\n",
       "</div>"
      ],
      "text/plain": [
       "     Company_Brand                                             Sector  \\\n",
       "0  TheCollegeFever  Brand Marketing, Event Promotion, Marketing, S...   \n",
       "1  Happy Cow Dairy                               Agriculture, Farming   \n",
       "2       MyLoanCare   Credit, Financial Services, Lending, Marketplace   \n",
       "3      PayMe India                        Financial Services, FinTech   \n",
       "4         Eunimart                 E-Commerce Platforms, Retail, SaaS   \n",
       "\n",
       "      Stage   Location                                      About Company  \\\n",
       "0      Seed  Bangalore  TheCollegeFever is a hub for fun, fiesta and f...   \n",
       "1      Seed     Mumbai  A startup which aggregates milk from dairy far...   \n",
       "2  Series A    Gurgaon          Leading Online Loans Marketplace in India   \n",
       "3     Angel      Noida  PayMe India is an innovative FinTech organizat...   \n",
       "4      Seed  Hyderabad  Eunimart is a one stop solution for merchants ...   \n",
       "\n",
       "   Year Currency     Amount  \n",
       "0  2018        $   250000.0  \n",
       "1  2018        $   584000.0  \n",
       "2  2018        $   949000.0  \n",
       "3  2018        $  2000000.0  \n",
       "4  2018        $        NaN  "
      ]
     },
     "execution_count": 39,
     "metadata": {},
     "output_type": "execute_result"
    }
   ],
   "source": [
    "df18.head()"
   ]
  },
  {
   "cell_type": "markdown",
   "metadata": {},
   "source": [
    "### Cleaning the 2019 dataset"
   ]
  },
  {
   "cell_type": "code",
   "execution_count": 40,
   "metadata": {
    "tags": []
   },
   "outputs": [],
   "source": [
    "#Making a copy of 2019 dataframe\n",
    "\n",
    "df19=df_fund2019.copy()"
   ]
  },
  {
   "cell_type": "code",
   "execution_count": 41,
   "metadata": {
    "tags": []
   },
   "outputs": [],
   "source": [
    "#Replacing the digits part of value with nothing\n",
    "\n",
    "df19['cur_symb19']=df19['Amount'].astype(str).replace(('\\d'), '', regex= True)"
   ]
  },
  {
   "cell_type": "code",
   "execution_count": 42,
   "metadata": {
    "tags": []
   },
   "outputs": [
    {
     "data": {
      "text/plain": [
       "array(['$,,', 'Undisclosed', '$,'], dtype=object)"
      ]
     },
     "execution_count": 42,
     "metadata": {},
     "output_type": "execute_result"
    }
   ],
   "source": [
    "# Checking unique symbols\n",
    "\n",
    "df19['cur_symb19'].unique()"
   ]
  },
  {
   "cell_type": "markdown",
   "metadata": {},
   "source": [
    "#### Observations\n",
    "\n",
    "- we noticed the currency for 2019 was $, also there were some businesses that did not disclosed their amount"
   ]
  },
  {
   "cell_type": "code",
   "execution_count": 43,
   "metadata": {
    "tags": []
   },
   "outputs": [],
   "source": [
    "#Replacing symbols with nothing\n",
    "\n",
    "df19['Amount_no_symb19']=df19['Amount'].astype(str).replace('\\D', '', regex= True)"
   ]
  },
  {
   "cell_type": "code",
   "execution_count": 44,
   "metadata": {
    "tags": []
   },
   "outputs": [],
   "source": [
    "# Droping the column with Amount and symbols\n",
    "\n",
    "df19=df19.drop('Amount',axis=1)"
   ]
  },
  {
   "cell_type": "code",
   "execution_count": 45,
   "metadata": {
    "tags": []
   },
   "outputs": [],
   "source": [
    "# Renaming Columns\n",
    "\n",
    "df19=df19.rename(columns={'Amount_no_symb19':'Amount'})\n",
    "df19=df19.rename(columns={'cur_symb19':'Currency'})"
   ]
  },
  {
   "cell_type": "code",
   "execution_count": 46,
   "metadata": {
    "tags": []
   },
   "outputs": [],
   "source": [
    "df19['Currency']=df19['Currency'].str.replace(',','')"
   ]
  },
  {
   "cell_type": "code",
   "execution_count": 47,
   "metadata": {
    "tags": []
   },
   "outputs": [
    {
     "data": {
      "text/html": [
       "<div>\n",
       "<style scoped>\n",
       "    .dataframe tbody tr th:only-of-type {\n",
       "        vertical-align: middle;\n",
       "    }\n",
       "\n",
       "    .dataframe tbody tr th {\n",
       "        vertical-align: top;\n",
       "    }\n",
       "\n",
       "    .dataframe thead th {\n",
       "        text-align: right;\n",
       "    }\n",
       "</style>\n",
       "<table border=\"1\" class=\"dataframe\">\n",
       "  <thead>\n",
       "    <tr style=\"text-align: right;\">\n",
       "      <th></th>\n",
       "      <th>Company_Brand</th>\n",
       "      <th>Founded</th>\n",
       "      <th>Location</th>\n",
       "      <th>Sector</th>\n",
       "      <th>About Company</th>\n",
       "      <th>Founders</th>\n",
       "      <th>Investor</th>\n",
       "      <th>Stage</th>\n",
       "      <th>Year</th>\n",
       "      <th>Currency</th>\n",
       "      <th>Amount</th>\n",
       "    </tr>\n",
       "  </thead>\n",
       "  <tbody>\n",
       "    <tr>\n",
       "      <th>0</th>\n",
       "      <td>Bombay Shaving</td>\n",
       "      <td>NaN</td>\n",
       "      <td>NaN</td>\n",
       "      <td>Ecommerce</td>\n",
       "      <td>Provides a range of male grooming products</td>\n",
       "      <td>Shantanu Deshpande</td>\n",
       "      <td>Sixth Sense Ventures</td>\n",
       "      <td>NaN</td>\n",
       "      <td>2019</td>\n",
       "      <td>$</td>\n",
       "      <td>6300000</td>\n",
       "    </tr>\n",
       "    <tr>\n",
       "      <th>1</th>\n",
       "      <td>Ruangguru</td>\n",
       "      <td>2014.0</td>\n",
       "      <td>Mumbai</td>\n",
       "      <td>Edtech</td>\n",
       "      <td>A learning platform that provides topic-based ...</td>\n",
       "      <td>Adamas Belva Syah Devara, Iman Usman.</td>\n",
       "      <td>General Atlantic</td>\n",
       "      <td>Series C</td>\n",
       "      <td>2019</td>\n",
       "      <td>$</td>\n",
       "      <td>150000000</td>\n",
       "    </tr>\n",
       "  </tbody>\n",
       "</table>\n",
       "</div>"
      ],
      "text/plain": [
       "    Company_Brand  Founded Location     Sector  \\\n",
       "0  Bombay Shaving      NaN      NaN  Ecommerce   \n",
       "1       Ruangguru   2014.0   Mumbai     Edtech   \n",
       "\n",
       "                                       About Company  \\\n",
       "0         Provides a range of male grooming products   \n",
       "1  A learning platform that provides topic-based ...   \n",
       "\n",
       "                                Founders              Investor     Stage  \\\n",
       "0                     Shantanu Deshpande  Sixth Sense Ventures       NaN   \n",
       "1  Adamas Belva Syah Devara, Iman Usman.      General Atlantic  Series C   \n",
       "\n",
       "   Year Currency     Amount  \n",
       "0  2019        $    6300000  \n",
       "1  2019        $  150000000  "
      ]
     },
     "execution_count": 47,
     "metadata": {},
     "output_type": "execute_result"
    }
   ],
   "source": [
    "#Confirming changes\n",
    "\n",
    "df19.head(2)"
   ]
  },
  {
   "cell_type": "code",
   "execution_count": 48,
   "metadata": {
    "tags": []
   },
   "outputs": [],
   "source": [
    "# Converting Amount from object datatype to numeric datatype\n",
    "\n",
    "df19['Amount']=pd.to_numeric(df19['Amount'])"
   ]
  },
  {
   "cell_type": "code",
   "execution_count": 49,
   "metadata": {
    "tags": []
   },
   "outputs": [],
   "source": [
    "df19['Currency']='$'"
   ]
  },
  {
   "cell_type": "code",
   "execution_count": 50,
   "metadata": {
    "tags": []
   },
   "outputs": [
    {
     "name": "stdout",
     "output_type": "stream",
     "text": [
      "<class 'pandas.core.frame.DataFrame'>\n",
      "RangeIndex: 89 entries, 0 to 88\n",
      "Data columns (total 11 columns):\n",
      " #   Column         Non-Null Count  Dtype  \n",
      "---  ------         --------------  -----  \n",
      " 0   Company_Brand  89 non-null     object \n",
      " 1   Founded        60 non-null     float64\n",
      " 2   Location       70 non-null     object \n",
      " 3   Sector         84 non-null     object \n",
      " 4   About Company  89 non-null     object \n",
      " 5   Founders       86 non-null     object \n",
      " 6   Investor       89 non-null     object \n",
      " 7   Stage          43 non-null     object \n",
      " 8   Year           89 non-null     int64  \n",
      " 9   Currency       89 non-null     object \n",
      " 10  Amount         77 non-null     float64\n",
      "dtypes: float64(2), int64(1), object(8)\n",
      "memory usage: 7.8+ KB\n"
     ]
    }
   ],
   "source": [
    "# Confirming the changes\n",
    "\n",
    "df19.info()"
   ]
  },
  {
   "cell_type": "markdown",
   "metadata": {},
   "source": [
    "### Cleaning the 2020 dataset"
   ]
  },
  {
   "cell_type": "code",
   "execution_count": 51,
   "metadata": {
    "tags": []
   },
   "outputs": [],
   "source": [
    "# Making a copy of the 2020 dataset\n",
    "\n",
    "df20=df_fund2020.copy()"
   ]
  },
  {
   "cell_type": "code",
   "execution_count": 52,
   "metadata": {
    "tags": []
   },
   "outputs": [
    {
     "data": {
      "text/html": [
       "<div>\n",
       "<style scoped>\n",
       "    .dataframe tbody tr th:only-of-type {\n",
       "        vertical-align: middle;\n",
       "    }\n",
       "\n",
       "    .dataframe tbody tr th {\n",
       "        vertical-align: top;\n",
       "    }\n",
       "\n",
       "    .dataframe thead th {\n",
       "        text-align: right;\n",
       "    }\n",
       "</style>\n",
       "<table border=\"1\" class=\"dataframe\">\n",
       "  <thead>\n",
       "    <tr style=\"text-align: right;\">\n",
       "      <th></th>\n",
       "      <th>Company_Brand</th>\n",
       "      <th>Founded</th>\n",
       "      <th>Location</th>\n",
       "      <th>Sector</th>\n",
       "      <th>About Company</th>\n",
       "      <th>Founders</th>\n",
       "      <th>Investor</th>\n",
       "      <th>Amount</th>\n",
       "      <th>Stage</th>\n",
       "      <th>column10</th>\n",
       "      <th>Year</th>\n",
       "    </tr>\n",
       "  </thead>\n",
       "  <tbody>\n",
       "    <tr>\n",
       "      <th>0</th>\n",
       "      <td>Aqgromalin</td>\n",
       "      <td>2019.0</td>\n",
       "      <td>Chennai</td>\n",
       "      <td>AgriTech</td>\n",
       "      <td>Cultivating Ideas for Profit</td>\n",
       "      <td>Prasanna Manogaran, Bharani C L</td>\n",
       "      <td>Angel investors</td>\n",
       "      <td>200000.0</td>\n",
       "      <td>None</td>\n",
       "      <td>None</td>\n",
       "      <td>2020</td>\n",
       "    </tr>\n",
       "    <tr>\n",
       "      <th>1</th>\n",
       "      <td>Krayonnz</td>\n",
       "      <td>2019.0</td>\n",
       "      <td>Bangalore</td>\n",
       "      <td>EdTech</td>\n",
       "      <td>An academy-guardian-scholar centric ecosystem ...</td>\n",
       "      <td>Saurabh Dixit, Gurudutt Upadhyay</td>\n",
       "      <td>GSF Accelerator</td>\n",
       "      <td>100000.0</td>\n",
       "      <td>Pre-seed</td>\n",
       "      <td>None</td>\n",
       "      <td>2020</td>\n",
       "    </tr>\n",
       "  </tbody>\n",
       "</table>\n",
       "</div>"
      ],
      "text/plain": [
       "  Company_Brand  Founded   Location    Sector  \\\n",
       "0    Aqgromalin   2019.0    Chennai  AgriTech   \n",
       "1      Krayonnz   2019.0  Bangalore    EdTech   \n",
       "\n",
       "                                       About Company  \\\n",
       "0                       Cultivating Ideas for Profit   \n",
       "1  An academy-guardian-scholar centric ecosystem ...   \n",
       "\n",
       "                           Founders         Investor    Amount     Stage  \\\n",
       "0   Prasanna Manogaran, Bharani C L  Angel investors  200000.0      None   \n",
       "1  Saurabh Dixit, Gurudutt Upadhyay  GSF Accelerator  100000.0  Pre-seed   \n",
       "\n",
       "  column10  Year  \n",
       "0     None  2020  \n",
       "1     None  2020  "
      ]
     },
     "execution_count": 52,
     "metadata": {},
     "output_type": "execute_result"
    }
   ],
   "source": [
    "# Confirming changes\n",
    "df20.head(2)"
   ]
  },
  {
   "cell_type": "code",
   "execution_count": 53,
   "metadata": {
    "tags": []
   },
   "outputs": [
    {
     "data": {
      "text/plain": [
       "254"
      ]
     },
     "execution_count": 53,
     "metadata": {},
     "output_type": "execute_result"
    }
   ],
   "source": [
    "# Checking for null values in the amount column\n",
    "df20['Amount'].isna().sum()"
   ]
  },
  {
   "cell_type": "code",
   "execution_count": 54,
   "metadata": {
    "tags": []
   },
   "outputs": [],
   "source": [
    "#Converting the Amount column from object datatype to numeric type\n",
    "\n",
    "df20['Amount']=pd.to_numeric(df20['Amount'])"
   ]
  },
  {
   "cell_type": "code",
   "execution_count": 55,
   "metadata": {
    "tags": []
   },
   "outputs": [],
   "source": [
    "'''\n",
    "    Since dollar is the dorminant currency and 2020 data had no currency, we are assuming the currency was dollars\n",
    "    '''\n",
    "\n",
    "df20['Currency']='$'"
   ]
  },
  {
   "cell_type": "code",
   "execution_count": 56,
   "metadata": {
    "tags": []
   },
   "outputs": [
    {
     "name": "stdout",
     "output_type": "stream",
     "text": [
      "<class 'pandas.core.frame.DataFrame'>\n",
      "RangeIndex: 1055 entries, 0 to 1054\n",
      "Data columns (total 12 columns):\n",
      " #   Column         Non-Null Count  Dtype  \n",
      "---  ------         --------------  -----  \n",
      " 0   Company_Brand  1055 non-null   object \n",
      " 1   Founded        842 non-null    float64\n",
      " 2   Location       961 non-null    object \n",
      " 3   Sector         1042 non-null   object \n",
      " 4   About Company  1055 non-null   object \n",
      " 5   Founders       1043 non-null   object \n",
      " 6   Investor       1017 non-null   object \n",
      " 7   Amount         801 non-null    float64\n",
      " 8   Stage          591 non-null    object \n",
      " 9   column10       2 non-null      object \n",
      " 10  Year           1055 non-null   int64  \n",
      " 11  Currency       1055 non-null   object \n",
      "dtypes: float64(2), int64(1), object(9)\n",
      "memory usage: 99.0+ KB\n"
     ]
    }
   ],
   "source": [
    "#Confirming changes\n",
    "\n",
    "df20.info()"
   ]
  },
  {
   "cell_type": "markdown",
   "metadata": {},
   "source": [
    "### Cleaning the 2021 dataset"
   ]
  },
  {
   "cell_type": "code",
   "execution_count": 57,
   "metadata": {
    "tags": []
   },
   "outputs": [],
   "source": [
    "#Making a copy of 2021 dataset\n",
    "\n",
    "df21=df_fund2021.copy()"
   ]
  },
  {
   "cell_type": "code",
   "execution_count": 58,
   "metadata": {
    "tags": []
   },
   "outputs": [],
   "source": [
    "#Replacing the digits partof Amount with nothing\n",
    "\n",
    "df21['cur_symb21']=df21['Amount'].astype(str).replace(('\\d'), '', regex= True)"
   ]
  },
  {
   "cell_type": "code",
   "execution_count": 59,
   "metadata": {
    "tags": []
   },
   "outputs": [
    {
     "data": {
      "text/plain": [
       "array(['$,,', '$,', 'Undisclosed', '$,,,', 'None', '$Undisclosed', '$',\n",
       "       'Upsparks', 'Series C', 'Seed', '$$,', '$undisclosed',\n",
       "       'ah! Ventures', 'Pre-series A', 'ITO Angel Network, LetsVenture',\n",
       "       'JITO Angel Network, LetsVenture', '$$,,'], dtype=object)"
      ]
     },
     "execution_count": 59,
     "metadata": {},
     "output_type": "execute_result"
    }
   ],
   "source": [
    "#Checking for type of symbols \n",
    "\n",
    "df21['cur_symb21'].unique()"
   ]
  },
  {
   "cell_type": "code",
   "execution_count": 60,
   "metadata": {
    "tags": []
   },
   "outputs": [],
   "source": [
    "#Replacing the symbols with nothing\n",
    "\n",
    "df21['Amount_no_symb21']=df21['Amount'].astype(str).replace('\\D', '', regex= True)"
   ]
  },
  {
   "cell_type": "code",
   "execution_count": 61,
   "metadata": {
    "tags": []
   },
   "outputs": [],
   "source": [
    "#Droping the amount column with symbols\n",
    "\n",
    "df21=df21.drop('Amount',axis=1)"
   ]
  },
  {
   "cell_type": "code",
   "execution_count": 62,
   "metadata": {
    "tags": []
   },
   "outputs": [],
   "source": [
    "# Renaming columns\n",
    "\n",
    "df21=df21.rename(columns={'Amount_no_symb21':'Amount'})\n",
    "df21=df21.rename(columns={'cur_symb21':'Currency'})"
   ]
  },
  {
   "cell_type": "code",
   "execution_count": 63,
   "metadata": {
    "tags": []
   },
   "outputs": [
    {
     "data": {
      "text/html": [
       "<div>\n",
       "<style scoped>\n",
       "    .dataframe tbody tr th:only-of-type {\n",
       "        vertical-align: middle;\n",
       "    }\n",
       "\n",
       "    .dataframe tbody tr th {\n",
       "        vertical-align: top;\n",
       "    }\n",
       "\n",
       "    .dataframe thead th {\n",
       "        text-align: right;\n",
       "    }\n",
       "</style>\n",
       "<table border=\"1\" class=\"dataframe\">\n",
       "  <thead>\n",
       "    <tr style=\"text-align: right;\">\n",
       "      <th></th>\n",
       "      <th>Company_Brand</th>\n",
       "      <th>Founded</th>\n",
       "      <th>Location</th>\n",
       "      <th>Sector</th>\n",
       "      <th>About Company</th>\n",
       "      <th>Founders</th>\n",
       "      <th>Investor</th>\n",
       "      <th>Stage</th>\n",
       "      <th>Year</th>\n",
       "      <th>Currency</th>\n",
       "      <th>Amount</th>\n",
       "    </tr>\n",
       "  </thead>\n",
       "  <tbody>\n",
       "    <tr>\n",
       "      <th>0</th>\n",
       "      <td>Unbox Robotics</td>\n",
       "      <td>2019.0</td>\n",
       "      <td>Bangalore</td>\n",
       "      <td>AI startup</td>\n",
       "      <td>Unbox Robotics builds on-demand AI-driven ware...</td>\n",
       "      <td>Pramod Ghadge, Shahid Memon</td>\n",
       "      <td>BEENEXT, Entrepreneur First</td>\n",
       "      <td>Pre-series A</td>\n",
       "      <td>2021</td>\n",
       "      <td>$,,</td>\n",
       "      <td>1200000</td>\n",
       "    </tr>\n",
       "    <tr>\n",
       "      <th>1</th>\n",
       "      <td>upGrad</td>\n",
       "      <td>2015.0</td>\n",
       "      <td>Mumbai</td>\n",
       "      <td>EdTech</td>\n",
       "      <td>UpGrad is an online higher education platform.</td>\n",
       "      <td>Mayank Kumar, Phalgun Kompalli, Ravijot Chugh,...</td>\n",
       "      <td>Unilazer Ventures, IIFL Asset Management</td>\n",
       "      <td>None</td>\n",
       "      <td>2021</td>\n",
       "      <td>$,,</td>\n",
       "      <td>120000000</td>\n",
       "    </tr>\n",
       "  </tbody>\n",
       "</table>\n",
       "</div>"
      ],
      "text/plain": [
       "    Company_Brand  Founded   Location      Sector  \\\n",
       "0  Unbox Robotics   2019.0  Bangalore  AI startup   \n",
       "1          upGrad   2015.0     Mumbai      EdTech   \n",
       "\n",
       "                                       About Company  \\\n",
       "0  Unbox Robotics builds on-demand AI-driven ware...   \n",
       "1     UpGrad is an online higher education platform.   \n",
       "\n",
       "                                            Founders  \\\n",
       "0                        Pramod Ghadge, Shahid Memon   \n",
       "1  Mayank Kumar, Phalgun Kompalli, Ravijot Chugh,...   \n",
       "\n",
       "                                   Investor         Stage  Year Currency  \\\n",
       "0               BEENEXT, Entrepreneur First  Pre-series A  2021      $,,   \n",
       "1  Unilazer Ventures, IIFL Asset Management          None  2021      $,,   \n",
       "\n",
       "      Amount  \n",
       "0    1200000  \n",
       "1  120000000  "
      ]
     },
     "execution_count": 63,
     "metadata": {},
     "output_type": "execute_result"
    }
   ],
   "source": [
    "# confirming changes\n",
    "\n",
    "df21.head(2)"
   ]
  },
  {
   "cell_type": "markdown",
   "metadata": {},
   "source": [
    "#### Observations\n",
    "\n",
    "- We noticed the currency was $, also other symbols had no amount but just texts.\n"
   ]
  },
  {
   "cell_type": "code",
   "execution_count": 64,
   "metadata": {
    "tags": []
   },
   "outputs": [],
   "source": [
    "#Converting the datatype from object to numeric \n",
    "\n",
    "df21['Amount']=pd.to_numeric(df21['Amount'])"
   ]
  },
  {
   "cell_type": "code",
   "execution_count": 65,
   "metadata": {
    "tags": []
   },
   "outputs": [
    {
     "data": {
      "text/plain": [
       "Currency\n",
       "$                                  2.811951e+07\n",
       "$$,                                1.000000e+04\n",
       "$$,,                               1.550000e+05\n",
       "$,                                 3.781757e+05\n",
       "$,,                                3.296623e+07\n",
       "$,,,                               7.550000e+10\n",
       "$Undisclosed                                NaN\n",
       "$undisclosed                                NaN\n",
       "ITO Angel Network, LetsVenture              NaN\n",
       "JITO Angel Network, LetsVenture             NaN\n",
       "None                                        NaN\n",
       "Pre-series A                                NaN\n",
       "Seed                                        NaN\n",
       "Series C                                    NaN\n",
       "Undisclosed                                 NaN\n",
       "Upsparks                                    NaN\n",
       "ah! Ventures                                NaN\n",
       "Name: Amount, dtype: float64"
      ]
     },
     "execution_count": 65,
     "metadata": {},
     "output_type": "execute_result"
    }
   ],
   "source": [
    "text_value=df21.groupby('Currency')['Amount'].mean()\n",
    "text_value"
   ]
  },
  {
   "cell_type": "code",
   "execution_count": 66,
   "metadata": {
    "tags": []
   },
   "outputs": [],
   "source": [
    "df21['Currency']='$'"
   ]
  },
  {
   "cell_type": "code",
   "execution_count": 67,
   "metadata": {
    "tags": []
   },
   "outputs": [
    {
     "name": "stdout",
     "output_type": "stream",
     "text": [
      "<class 'pandas.core.frame.DataFrame'>\n",
      "RangeIndex: 1209 entries, 0 to 1208\n",
      "Data columns (total 11 columns):\n",
      " #   Column         Non-Null Count  Dtype  \n",
      "---  ------         --------------  -----  \n",
      " 0   Company_Brand  1209 non-null   object \n",
      " 1   Founded        1208 non-null   float64\n",
      " 2   Location       1208 non-null   object \n",
      " 3   Sector         1209 non-null   object \n",
      " 4   About Company  1209 non-null   object \n",
      " 5   Founders       1205 non-null   object \n",
      " 6   Investor       1147 non-null   object \n",
      " 7   Stage          781 non-null    object \n",
      " 8   Year           1209 non-null   int64  \n",
      " 9   Currency       1209 non-null   object \n",
      " 10  Amount         1056 non-null   float64\n",
      "dtypes: float64(2), int64(1), object(8)\n",
      "memory usage: 104.0+ KB\n"
     ]
    }
   ],
   "source": [
    "#Confirming changes\n",
    "\n",
    "df21.info()"
   ]
  },
  {
   "cell_type": "code",
   "execution_count": 80,
   "metadata": {
    "tags": []
   },
   "outputs": [],
   "source": [
    "#Concatenating Dataframes\n",
    "df = pd.concat([df18, df19, df20, df21], ignore_index=True)"
   ]
  },
  {
   "cell_type": "code",
   "execution_count": 81,
   "metadata": {
    "tags": []
   },
   "outputs": [
    {
     "data": {
      "text/html": [
       "<div>\n",
       "<style scoped>\n",
       "    .dataframe tbody tr th:only-of-type {\n",
       "        vertical-align: middle;\n",
       "    }\n",
       "\n",
       "    .dataframe tbody tr th {\n",
       "        vertical-align: top;\n",
       "    }\n",
       "\n",
       "    .dataframe thead th {\n",
       "        text-align: right;\n",
       "    }\n",
       "</style>\n",
       "<table border=\"1\" class=\"dataframe\">\n",
       "  <thead>\n",
       "    <tr style=\"text-align: right;\">\n",
       "      <th></th>\n",
       "      <th>Company_Brand</th>\n",
       "      <th>Sector</th>\n",
       "      <th>Stage</th>\n",
       "      <th>Location</th>\n",
       "      <th>About Company</th>\n",
       "      <th>Year</th>\n",
       "      <th>Currency</th>\n",
       "      <th>Amount</th>\n",
       "      <th>Founded</th>\n",
       "      <th>Founders</th>\n",
       "      <th>Investor</th>\n",
       "      <th>column10</th>\n",
       "    </tr>\n",
       "  </thead>\n",
       "  <tbody>\n",
       "    <tr>\n",
       "      <th>139</th>\n",
       "      <td>Chizel</td>\n",
       "      <td>3D Printing, Manufacturing, Product Design</td>\n",
       "      <td>Seed</td>\n",
       "      <td>Pune</td>\n",
       "      <td>Chizel is a worlds most advanced cloud platfor...</td>\n",
       "      <td>2018</td>\n",
       "      <td>$</td>\n",
       "      <td>NaN</td>\n",
       "      <td>NaN</td>\n",
       "      <td>NaN</td>\n",
       "      <td>NaN</td>\n",
       "      <td>NaN</td>\n",
       "    </tr>\n",
       "    <tr>\n",
       "      <th>753</th>\n",
       "      <td>Kitchens Centre</td>\n",
       "      <td>Proptech</td>\n",
       "      <td>Pre-series A</td>\n",
       "      <td>New Delhi</td>\n",
       "      <td>Kitchens Centre offers turnkey solutions to cl...</td>\n",
       "      <td>2020</td>\n",
       "      <td>$</td>\n",
       "      <td>NaN</td>\n",
       "      <td>2019.0</td>\n",
       "      <td>Lakshay Jain</td>\n",
       "      <td>Jonathan Swanson, Ankush Gera</td>\n",
       "      <td>None</td>\n",
       "    </tr>\n",
       "    <tr>\n",
       "      <th>1306</th>\n",
       "      <td>Vakilsearch</td>\n",
       "      <td>Legal</td>\n",
       "      <td>None</td>\n",
       "      <td>Chennai</td>\n",
       "      <td>Online platform for legal, tax and compliance ...</td>\n",
       "      <td>2020</td>\n",
       "      <td>$</td>\n",
       "      <td>NaN</td>\n",
       "      <td>2010.0</td>\n",
       "      <td>Hrishikesh Datar</td>\n",
       "      <td>Sujeet Kumar</td>\n",
       "      <td>None</td>\n",
       "    </tr>\n",
       "  </tbody>\n",
       "</table>\n",
       "</div>"
      ],
      "text/plain": [
       "        Company_Brand                                      Sector  \\\n",
       "139            Chizel  3D Printing, Manufacturing, Product Design   \n",
       "753   Kitchens Centre                                    Proptech   \n",
       "1306      Vakilsearch                                       Legal   \n",
       "\n",
       "             Stage   Location  \\\n",
       "139           Seed       Pune   \n",
       "753   Pre-series A  New Delhi   \n",
       "1306          None    Chennai   \n",
       "\n",
       "                                          About Company  Year Currency  \\\n",
       "139   Chizel is a worlds most advanced cloud platfor...  2018        $   \n",
       "753   Kitchens Centre offers turnkey solutions to cl...  2020        $   \n",
       "1306  Online platform for legal, tax and compliance ...  2020        $   \n",
       "\n",
       "      Amount  Founded          Founders                       Investor  \\\n",
       "139      NaN      NaN               NaN                            NaN   \n",
       "753      NaN   2019.0      Lakshay Jain  Jonathan Swanson, Ankush Gera   \n",
       "1306     NaN   2010.0  Hrishikesh Datar                   Sujeet Kumar   \n",
       "\n",
       "     column10  \n",
       "139       NaN  \n",
       "753      None  \n",
       "1306     None  "
      ]
     },
     "execution_count": 81,
     "metadata": {},
     "output_type": "execute_result"
    }
   ],
   "source": [
    "df.sample(3)"
   ]
  },
  {
   "cell_type": "code",
   "execution_count": 82,
   "metadata": {
    "tags": []
   },
   "outputs": [
    {
     "data": {
      "text/plain": [
       "(2879, 12)"
      ]
     },
     "execution_count": 82,
     "metadata": {},
     "output_type": "execute_result"
    }
   ],
   "source": [
    "df.shape"
   ]
  },
  {
   "cell_type": "markdown",
   "metadata": {},
   "source": [
    "#### Observations\n",
    "\n",
    "- After combining the datasets from the various sources, we got 3033 rows and 9 columns"
   ]
  },
  {
   "cell_type": "code",
   "execution_count": 83,
   "metadata": {
    "tags": []
   },
   "outputs": [
    {
     "name": "stdout",
     "output_type": "stream",
     "text": [
      "<class 'pandas.core.frame.DataFrame'>\n",
      "RangeIndex: 2879 entries, 0 to 2878\n",
      "Data columns (total 12 columns):\n",
      " #   Column         Non-Null Count  Dtype  \n",
      "---  ------         --------------  -----  \n",
      " 0   Company_Brand  2879 non-null   object \n",
      " 1   Sector         2861 non-null   object \n",
      " 2   Stage          1941 non-null   object \n",
      " 3   Location       2765 non-null   object \n",
      " 4   About Company  2879 non-null   object \n",
      " 5   Year           2879 non-null   int64  \n",
      " 6   Currency       2879 non-null   object \n",
      " 7   Amount         2312 non-null   float64\n",
      " 8   Founded        2110 non-null   float64\n",
      " 9   Founders       2334 non-null   object \n",
      " 10  Investor       2253 non-null   object \n",
      " 11  column10       2 non-null      object \n",
      "dtypes: float64(2), int64(1), object(9)\n",
      "memory usage: 270.0+ KB\n"
     ]
    }
   ],
   "source": [
    "df.info()"
   ]
  },
  {
   "cell_type": "markdown",
   "metadata": {},
   "source": [
    "#### Observations\n",
    "\n",
    "- We observed that the Amount column is indicating as object type insterd of float, we will investigate further and change to float\n",
    "- all other object types are correctly specified.\n",
    "- Year and Founded are suposed to be datetime type but are indicating int and float types, we will change them to datetime"
   ]
  },
  {
   "cell_type": "code",
   "execution_count": 88,
   "metadata": {},
   "outputs": [
    {
     "data": {
      "text/html": [
       "<div>\n",
       "<style scoped>\n",
       "    .dataframe tbody tr th:only-of-type {\n",
       "        vertical-align: middle;\n",
       "    }\n",
       "\n",
       "    .dataframe tbody tr th {\n",
       "        vertical-align: top;\n",
       "    }\n",
       "\n",
       "    .dataframe thead th {\n",
       "        text-align: right;\n",
       "    }\n",
       "</style>\n",
       "<table border=\"1\" class=\"dataframe\">\n",
       "  <thead>\n",
       "    <tr style=\"text-align: right;\">\n",
       "      <th></th>\n",
       "      <th>Company_Brand</th>\n",
       "      <th>Sector</th>\n",
       "      <th>Stage</th>\n",
       "      <th>Location</th>\n",
       "      <th>About Company</th>\n",
       "      <th>Year</th>\n",
       "      <th>Currency</th>\n",
       "      <th>Amount</th>\n",
       "      <th>Founded</th>\n",
       "      <th>Founders</th>\n",
       "      <th>Investor</th>\n",
       "      <th>column10</th>\n",
       "    </tr>\n",
       "  </thead>\n",
       "  <tbody>\n",
       "    <tr>\n",
       "      <th>0</th>\n",
       "      <td>TheCollegeFever</td>\n",
       "      <td>Brand Marketing, Event Promotion, Marketing, S...</td>\n",
       "      <td>Seed</td>\n",
       "      <td>Bangalore</td>\n",
       "      <td>TheCollegeFever is a hub for fun, fiesta and f...</td>\n",
       "      <td>2018</td>\n",
       "      <td>$</td>\n",
       "      <td>250000.0</td>\n",
       "      <td>NaN</td>\n",
       "      <td>NaN</td>\n",
       "      <td>NaN</td>\n",
       "      <td>NaN</td>\n",
       "    </tr>\n",
       "    <tr>\n",
       "      <th>1</th>\n",
       "      <td>Happy Cow Dairy</td>\n",
       "      <td>Agriculture, Farming</td>\n",
       "      <td>Seed</td>\n",
       "      <td>Mumbai</td>\n",
       "      <td>A startup which aggregates milk from dairy far...</td>\n",
       "      <td>2018</td>\n",
       "      <td>$</td>\n",
       "      <td>584000.0</td>\n",
       "      <td>NaN</td>\n",
       "      <td>NaN</td>\n",
       "      <td>NaN</td>\n",
       "      <td>NaN</td>\n",
       "    </tr>\n",
       "    <tr>\n",
       "      <th>2</th>\n",
       "      <td>MyLoanCare</td>\n",
       "      <td>Credit, Financial Services, Lending, Marketplace</td>\n",
       "      <td>Series A</td>\n",
       "      <td>Gurgaon</td>\n",
       "      <td>Leading Online Loans Marketplace in India</td>\n",
       "      <td>2018</td>\n",
       "      <td>$</td>\n",
       "      <td>949000.0</td>\n",
       "      <td>NaN</td>\n",
       "      <td>NaN</td>\n",
       "      <td>NaN</td>\n",
       "      <td>NaN</td>\n",
       "    </tr>\n",
       "    <tr>\n",
       "      <th>3</th>\n",
       "      <td>PayMe India</td>\n",
       "      <td>Financial Services, FinTech</td>\n",
       "      <td>Angel</td>\n",
       "      <td>Noida</td>\n",
       "      <td>PayMe India is an innovative FinTech organizat...</td>\n",
       "      <td>2018</td>\n",
       "      <td>$</td>\n",
       "      <td>2000000.0</td>\n",
       "      <td>NaN</td>\n",
       "      <td>NaN</td>\n",
       "      <td>NaN</td>\n",
       "      <td>NaN</td>\n",
       "    </tr>\n",
       "    <tr>\n",
       "      <th>4</th>\n",
       "      <td>Eunimart</td>\n",
       "      <td>E-Commerce Platforms, Retail, SaaS</td>\n",
       "      <td>Seed</td>\n",
       "      <td>Hyderabad</td>\n",
       "      <td>Eunimart is a one stop solution for merchants ...</td>\n",
       "      <td>2018</td>\n",
       "      <td>$</td>\n",
       "      <td>NaN</td>\n",
       "      <td>NaN</td>\n",
       "      <td>NaN</td>\n",
       "      <td>NaN</td>\n",
       "      <td>NaN</td>\n",
       "    </tr>\n",
       "  </tbody>\n",
       "</table>\n",
       "</div>"
      ],
      "text/plain": [
       "     Company_Brand                                             Sector  \\\n",
       "0  TheCollegeFever  Brand Marketing, Event Promotion, Marketing, S...   \n",
       "1  Happy Cow Dairy                               Agriculture, Farming   \n",
       "2       MyLoanCare   Credit, Financial Services, Lending, Marketplace   \n",
       "3      PayMe India                        Financial Services, FinTech   \n",
       "4         Eunimart                 E-Commerce Platforms, Retail, SaaS   \n",
       "\n",
       "      Stage   Location                                      About Company  \\\n",
       "0      Seed  Bangalore  TheCollegeFever is a hub for fun, fiesta and f...   \n",
       "1      Seed     Mumbai  A startup which aggregates milk from dairy far...   \n",
       "2  Series A    Gurgaon          Leading Online Loans Marketplace in India   \n",
       "3     Angel      Noida  PayMe India is an innovative FinTech organizat...   \n",
       "4      Seed  Hyderabad  Eunimart is a one stop solution for merchants ...   \n",
       "\n",
       "   Year Currency     Amount  Founded Founders Investor column10  \n",
       "0  2018        $   250000.0      NaN      NaN      NaN      NaN  \n",
       "1  2018        $   584000.0      NaN      NaN      NaN      NaN  \n",
       "2  2018        $   949000.0      NaN      NaN      NaN      NaN  \n",
       "3  2018        $  2000000.0      NaN      NaN      NaN      NaN  \n",
       "4  2018        $        NaN      NaN      NaN      NaN      NaN  "
      ]
     },
     "execution_count": 88,
     "metadata": {},
     "output_type": "execute_result"
    }
   ],
   "source": [
    "df.head()"
   ]
  },
  {
   "cell_type": "code",
   "execution_count": 90,
   "metadata": {
    "tags": []
   },
   "outputs": [
    {
     "data": {
      "text/plain": [
       "23"
      ]
     },
     "execution_count": 90,
     "metadata": {},
     "output_type": "execute_result"
    }
   ],
   "source": [
    "df.duplicated().sum()"
   ]
  },
  {
   "cell_type": "code",
   "execution_count": 92,
   "metadata": {
    "tags": []
   },
   "outputs": [],
   "source": [
    "df=df.drop_duplicates()"
   ]
  },
  {
   "cell_type": "code",
   "execution_count": 93,
   "metadata": {
    "tags": []
   },
   "outputs": [
    {
     "data": {
      "text/html": [
       "<div>\n",
       "<style scoped>\n",
       "    .dataframe tbody tr th:only-of-type {\n",
       "        vertical-align: middle;\n",
       "    }\n",
       "\n",
       "    .dataframe tbody tr th {\n",
       "        vertical-align: top;\n",
       "    }\n",
       "\n",
       "    .dataframe thead th {\n",
       "        text-align: right;\n",
       "    }\n",
       "</style>\n",
       "<table border=\"1\" class=\"dataframe\">\n",
       "  <thead>\n",
       "    <tr style=\"text-align: right;\">\n",
       "      <th></th>\n",
       "      <th>count</th>\n",
       "      <th>unique</th>\n",
       "      <th>top</th>\n",
       "      <th>freq</th>\n",
       "      <th>mean</th>\n",
       "      <th>std</th>\n",
       "      <th>min</th>\n",
       "      <th>25%</th>\n",
       "      <th>50%</th>\n",
       "      <th>75%</th>\n",
       "      <th>max</th>\n",
       "    </tr>\n",
       "  </thead>\n",
       "  <tbody>\n",
       "    <tr>\n",
       "      <th>Company_Brand</th>\n",
       "      <td>2856</td>\n",
       "      <td>2214</td>\n",
       "      <td>BharatPe</td>\n",
       "      <td>10</td>\n",
       "      <td>NaN</td>\n",
       "      <td>NaN</td>\n",
       "      <td>NaN</td>\n",
       "      <td>NaN</td>\n",
       "      <td>NaN</td>\n",
       "      <td>NaN</td>\n",
       "      <td>NaN</td>\n",
       "    </tr>\n",
       "    <tr>\n",
       "      <th>Sector</th>\n",
       "      <td>2838</td>\n",
       "      <td>873</td>\n",
       "      <td>FinTech</td>\n",
       "      <td>172</td>\n",
       "      <td>NaN</td>\n",
       "      <td>NaN</td>\n",
       "      <td>NaN</td>\n",
       "      <td>NaN</td>\n",
       "      <td>NaN</td>\n",
       "      <td>NaN</td>\n",
       "      <td>NaN</td>\n",
       "    </tr>\n",
       "    <tr>\n",
       "      <th>Stage</th>\n",
       "      <td>1927</td>\n",
       "      <td>75</td>\n",
       "      <td>Seed</td>\n",
       "      <td>599</td>\n",
       "      <td>NaN</td>\n",
       "      <td>NaN</td>\n",
       "      <td>NaN</td>\n",
       "      <td>NaN</td>\n",
       "      <td>NaN</td>\n",
       "      <td>NaN</td>\n",
       "      <td>NaN</td>\n",
       "    </tr>\n",
       "    <tr>\n",
       "      <th>Location</th>\n",
       "      <td>2742</td>\n",
       "      <td>141</td>\n",
       "      <td>Bangalore</td>\n",
       "      <td>859</td>\n",
       "      <td>NaN</td>\n",
       "      <td>NaN</td>\n",
       "      <td>NaN</td>\n",
       "      <td>NaN</td>\n",
       "      <td>NaN</td>\n",
       "      <td>NaN</td>\n",
       "      <td>NaN</td>\n",
       "    </tr>\n",
       "    <tr>\n",
       "      <th>About Company</th>\n",
       "      <td>2856</td>\n",
       "      <td>2691</td>\n",
       "      <td>BYJU'S is an educational technology company th...</td>\n",
       "      <td>5</td>\n",
       "      <td>NaN</td>\n",
       "      <td>NaN</td>\n",
       "      <td>NaN</td>\n",
       "      <td>NaN</td>\n",
       "      <td>NaN</td>\n",
       "      <td>NaN</td>\n",
       "      <td>NaN</td>\n",
       "    </tr>\n",
       "    <tr>\n",
       "      <th>Year</th>\n",
       "      <td>2856.0</td>\n",
       "      <td>NaN</td>\n",
       "      <td>NaN</td>\n",
       "      <td>NaN</td>\n",
       "      <td>2020.017857</td>\n",
       "      <td>1.087759</td>\n",
       "      <td>2018.0</td>\n",
       "      <td>2020.0</td>\n",
       "      <td>2020.0</td>\n",
       "      <td>2021.0</td>\n",
       "      <td>2021.0</td>\n",
       "    </tr>\n",
       "    <tr>\n",
       "      <th>Currency</th>\n",
       "      <td>2856</td>\n",
       "      <td>1</td>\n",
       "      <td>$</td>\n",
       "      <td>2856</td>\n",
       "      <td>NaN</td>\n",
       "      <td>NaN</td>\n",
       "      <td>NaN</td>\n",
       "      <td>NaN</td>\n",
       "      <td>NaN</td>\n",
       "      <td>NaN</td>\n",
       "      <td>NaN</td>\n",
       "    </tr>\n",
       "    <tr>\n",
       "      <th>Amount</th>\n",
       "      <td>2293.0</td>\n",
       "      <td>NaN</td>\n",
       "      <td>NaN</td>\n",
       "      <td>NaN</td>\n",
       "      <td>121934365.88792</td>\n",
       "      <td>3457172580.021939</td>\n",
       "      <td>876.0</td>\n",
       "      <td>1000000.0</td>\n",
       "      <td>3000000.0</td>\n",
       "      <td>12000000.0</td>\n",
       "      <td>150000000000.0</td>\n",
       "    </tr>\n",
       "    <tr>\n",
       "      <th>Founded</th>\n",
       "      <td>2088.0</td>\n",
       "      <td>NaN</td>\n",
       "      <td>NaN</td>\n",
       "      <td>NaN</td>\n",
       "      <td>2016.06705</td>\n",
       "      <td>4.368211</td>\n",
       "      <td>1963.0</td>\n",
       "      <td>2015.0</td>\n",
       "      <td>2017.0</td>\n",
       "      <td>2019.0</td>\n",
       "      <td>2021.0</td>\n",
       "    </tr>\n",
       "    <tr>\n",
       "      <th>Founders</th>\n",
       "      <td>2312</td>\n",
       "      <td>1980</td>\n",
       "      <td>Ashneer Grover, Shashvat Nakrani</td>\n",
       "      <td>7</td>\n",
       "      <td>NaN</td>\n",
       "      <td>NaN</td>\n",
       "      <td>NaN</td>\n",
       "      <td>NaN</td>\n",
       "      <td>NaN</td>\n",
       "      <td>NaN</td>\n",
       "      <td>NaN</td>\n",
       "    </tr>\n",
       "    <tr>\n",
       "      <th>Investor</th>\n",
       "      <td>2232</td>\n",
       "      <td>1777</td>\n",
       "      <td>Inflection Point Ventures</td>\n",
       "      <td>35</td>\n",
       "      <td>NaN</td>\n",
       "      <td>NaN</td>\n",
       "      <td>NaN</td>\n",
       "      <td>NaN</td>\n",
       "      <td>NaN</td>\n",
       "      <td>NaN</td>\n",
       "      <td>NaN</td>\n",
       "    </tr>\n",
       "    <tr>\n",
       "      <th>column10</th>\n",
       "      <td>2</td>\n",
       "      <td>2</td>\n",
       "      <td>Pre-Seed</td>\n",
       "      <td>1</td>\n",
       "      <td>NaN</td>\n",
       "      <td>NaN</td>\n",
       "      <td>NaN</td>\n",
       "      <td>NaN</td>\n",
       "      <td>NaN</td>\n",
       "      <td>NaN</td>\n",
       "      <td>NaN</td>\n",
       "    </tr>\n",
       "  </tbody>\n",
       "</table>\n",
       "</div>"
      ],
      "text/plain": [
       "                count unique  \\\n",
       "Company_Brand    2856   2214   \n",
       "Sector           2838    873   \n",
       "Stage            1927     75   \n",
       "Location         2742    141   \n",
       "About Company    2856   2691   \n",
       "Year           2856.0    NaN   \n",
       "Currency         2856      1   \n",
       "Amount         2293.0    NaN   \n",
       "Founded        2088.0    NaN   \n",
       "Founders         2312   1980   \n",
       "Investor         2232   1777   \n",
       "column10            2      2   \n",
       "\n",
       "                                                             top  freq  \\\n",
       "Company_Brand                                           BharatPe    10   \n",
       "Sector                                                   FinTech   172   \n",
       "Stage                                                       Seed   599   \n",
       "Location                                               Bangalore   859   \n",
       "About Company  BYJU'S is an educational technology company th...     5   \n",
       "Year                                                         NaN   NaN   \n",
       "Currency                                                       $  2856   \n",
       "Amount                                                       NaN   NaN   \n",
       "Founded                                                      NaN   NaN   \n",
       "Founders                        Ashneer Grover, Shashvat Nakrani     7   \n",
       "Investor                               Inflection Point Ventures    35   \n",
       "column10                                                Pre-Seed     1   \n",
       "\n",
       "                          mean                std     min        25%  \\\n",
       "Company_Brand              NaN                NaN     NaN        NaN   \n",
       "Sector                     NaN                NaN     NaN        NaN   \n",
       "Stage                      NaN                NaN     NaN        NaN   \n",
       "Location                   NaN                NaN     NaN        NaN   \n",
       "About Company              NaN                NaN     NaN        NaN   \n",
       "Year               2020.017857           1.087759  2018.0     2020.0   \n",
       "Currency                   NaN                NaN     NaN        NaN   \n",
       "Amount         121934365.88792  3457172580.021939   876.0  1000000.0   \n",
       "Founded             2016.06705           4.368211  1963.0     2015.0   \n",
       "Founders                   NaN                NaN     NaN        NaN   \n",
       "Investor                   NaN                NaN     NaN        NaN   \n",
       "column10                   NaN                NaN     NaN        NaN   \n",
       "\n",
       "                     50%         75%             max  \n",
       "Company_Brand        NaN         NaN             NaN  \n",
       "Sector               NaN         NaN             NaN  \n",
       "Stage                NaN         NaN             NaN  \n",
       "Location             NaN         NaN             NaN  \n",
       "About Company        NaN         NaN             NaN  \n",
       "Year              2020.0      2021.0          2021.0  \n",
       "Currency             NaN         NaN             NaN  \n",
       "Amount         3000000.0  12000000.0  150000000000.0  \n",
       "Founded           2017.0      2019.0          2021.0  \n",
       "Founders             NaN         NaN             NaN  \n",
       "Investor             NaN         NaN             NaN  \n",
       "column10             NaN         NaN             NaN  "
      ]
     },
     "execution_count": 93,
     "metadata": {},
     "output_type": "execute_result"
    }
   ],
   "source": [
    "df.describe(include='all').T"
   ]
  },
  {
   "cell_type": "code",
   "execution_count": 95,
   "metadata": {
    "tags": []
   },
   "outputs": [
    {
     "data": {
      "text/plain": [
       "array(['Bangalore', 'Mumbai', 'Gurgaon', 'Noida', 'Hyderabad',\n",
       "       'Bengaluru', 'Kalkaji', 'Delhi', 'India', 'Hubli', 'New Delhi',\n",
       "       'Chennai', 'Mohali', 'Kolkata', 'Pune', 'Jodhpur', 'Kanpur',\n",
       "       'Ahmedabad', 'Azadpur', 'Haryana', 'Cochin', 'Faridabad', 'Jaipur',\n",
       "       'Kota', 'Anand', 'Bangalore City', 'Belgaum', 'Thane', 'Margão',\n",
       "       'Indore', 'Alwar', 'Kannur', 'Trivandrum', 'Ernakulam',\n",
       "       'Kormangala', 'Uttar Pradesh', 'Andheri', 'Mylapore', 'Ghaziabad',\n",
       "       'Kochi', 'Powai', 'Guntur', 'Kalpakkam', 'Bhopal', 'Coimbatore',\n",
       "       'Worli', 'Alleppey', 'Chandigarh', 'Guindy', 'Lucknow', nan,\n",
       "       'Telangana', 'Gurugram', 'Surat', 'Uttar pradesh', 'Rajasthan',\n",
       "       'Tirunelveli, Tamilnadu', None, 'Singapore', 'Gujarat', 'Kerala',\n",
       "       'Jaipur, Rajastan', 'Frisco, Texas, United States', 'California',\n",
       "       'Dhingsara, Haryana', 'New York, United States', 'Patna',\n",
       "       'San Francisco, California, United States',\n",
       "       'San Francisco, United States', 'San Ramon, California',\n",
       "       'Paris, Ile-de-France, France', 'Plano, Texas, United States',\n",
       "       'Sydney', 'San Francisco Bay Area, Silicon Valley, West Coast',\n",
       "       'Bangaldesh', 'London, England, United Kingdom',\n",
       "       'Sydney, New South Wales, Australia', 'Milano, Lombardia, Italy',\n",
       "       'Palmwoods, Queensland, Australia', 'France',\n",
       "       'San Francisco Bay Area, West Coast, Western US',\n",
       "       'Trivandrum, Kerala, India', 'Samastipur, Bihar',\n",
       "       'Irvine, California, United States', 'Tumkur, Karnataka',\n",
       "       'Newcastle Upon Tyne, Newcastle upon Tyne, United Kingdom',\n",
       "       'Shanghai, China', 'Jiaxing, Zhejiang, China', 'Rajastan',\n",
       "       'Ludhiana', 'Dehradun', 'San Franciscao', 'San Francisco',\n",
       "       'Tangerang, Jawa Barat, Indonesia', 'Berlin', 'Seattle', 'Riyadh',\n",
       "       'Seoul', 'New York', 'Bangkok', 'Warangal', 'Hyderebad', 'Odisha',\n",
       "       'Bihar', 'Goa', 'Tamil Nadu', 'Banglore', 'Ahmadabad',\n",
       "       'Small Towns, Andhra Pradesh', 'Rajsamand', 'Ranchi',\n",
       "       'Faridabad, Haryana', 'Computer Games', 'Vadodara',\n",
       "       'Food & Beverages', 'Pharmaceuticals\\t#REF!', 'Gurugram\\t#REF!',\n",
       "       'Nagpur', 'West Bengal', 'Samsitpur', 'Silvassa',\n",
       "       'Thiruvananthapuram', 'Roorkee', 'Ambernath', 'Panchkula',\n",
       "       'Mangalore', 'Telugana', 'Bhubaneswar', 'Kottayam', 'Beijing',\n",
       "       'Panaji', 'Satara', 'Orissia', 'Santra', 'Mountain View, CA',\n",
       "       'Jharkhand', 'Bhilwara', 'Guwahati', 'Online Media\\t#REF!',\n",
       "       'London', 'Information Technology & Services', 'The Nilgiris',\n",
       "       'Gandhinagar'], dtype=object)"
      ]
     },
     "execution_count": 95,
     "metadata": {},
     "output_type": "execute_result"
    }
   ],
   "source": [
    "df['Location'].unique()"
   ]
  },
  {
   "cell_type": "code",
   "execution_count": null,
   "metadata": {},
   "outputs": [],
   "source": []
  },
  {
   "cell_type": "raw",
   "metadata": {},
   "source": []
  },
  {
   "cell_type": "raw",
   "metadata": {},
   "source": []
  },
  {
   "cell_type": "code",
   "execution_count": null,
   "metadata": {},
   "outputs": [],
   "source": []
  },
  {
   "cell_type": "raw",
   "metadata": {},
   "source": []
  },
  {
   "cell_type": "raw",
   "metadata": {},
   "source": []
  },
  {
   "cell_type": "raw",
   "metadata": {},
   "source": []
  },
  {
   "cell_type": "raw",
   "metadata": {},
   "source": []
  },
  {
   "cell_type": "code",
   "execution_count": null,
   "metadata": {},
   "outputs": [],
   "source": []
  },
  {
   "cell_type": "code",
   "execution_count": 96,
   "metadata": {
    "tags": []
   },
   "outputs": [
    {
     "data": {
      "text/plain": [
       "array(['Bangalore', 'Mumbai', 'Gurgaon', 'Noida', 'Hyderabad',\n",
       "       'Bengaluru', 'Kalkaji', 'Delhi', 'India', 'Hubli', 'New Delhi',\n",
       "       'Chennai', 'Mohali', 'Kolkata', 'Pune', 'Jodhpur', 'Kanpur',\n",
       "       'Ahmedabad', 'Azadpur', 'Haryana', 'Cochin', 'Faridabad', 'Jaipur',\n",
       "       'Kota', 'Anand', 'Bangalore City', 'Belgaum', 'Thane', 'Margão',\n",
       "       'Indore', 'Alwar', 'Kannur', 'Trivandrum', 'Ernakulam',\n",
       "       'Kormangala', 'Uttar Pradesh', 'Andheri', 'Mylapore', 'Ghaziabad',\n",
       "       'Kochi', 'Powai', 'Guntur', 'Kalpakkam', 'Bhopal', 'Coimbatore',\n",
       "       'Worli', 'Alleppey', 'Chandigarh', 'Guindy', 'Lucknow'],\n",
       "      dtype=object)"
      ]
     },
     "execution_count": 96,
     "metadata": {},
     "output_type": "execute_result"
    }
   ],
   "source": [
    "df18['Location'].unique()"
   ]
  },
  {
   "cell_type": "code",
   "execution_count": 97,
   "metadata": {
    "tags": []
   },
   "outputs": [
    {
     "data": {
      "text/plain": [
       "array([nan, 'Mumbai', 'Chennai', 'Telangana', 'Pune', 'Bangalore',\n",
       "       'Noida', 'Delhi', 'Ahmedabad', 'Gurugram', 'Haryana', 'Chandigarh',\n",
       "       'Jaipur', 'New Delhi', 'Surat', 'Uttar pradesh', 'Hyderabad',\n",
       "       'Rajasthan'], dtype=object)"
      ]
     },
     "execution_count": 97,
     "metadata": {},
     "output_type": "execute_result"
    }
   ],
   "source": [
    "df19['Location'].unique()"
   ]
  },
  {
   "cell_type": "code",
   "execution_count": 100,
   "metadata": {
    "tags": []
   },
   "outputs": [
    {
     "data": {
      "text/plain": [
       "array(['Chennai', 'Bangalore', 'Pune', 'New Delhi', 'Indore', 'Hyderabad',\n",
       "       'Gurgaon', 'Belgaum', 'Noida', 'Mumbai', 'Andheri', 'Jaipur',\n",
       "       'Ahmedabad', 'Kolkata', 'Tirunelveli, Tamilnadu', 'Thane', None,\n",
       "       'Singapore', 'Gurugram', 'Gujarat', 'Haryana', 'Kerala', 'Jodhpur',\n",
       "       'Jaipur, Rajastan', 'Delhi', 'Frisco, Texas, United States',\n",
       "       'California', 'Dhingsara, Haryana', 'New York, United States',\n",
       "       'Patna', 'San Francisco, California, United States',\n",
       "       'San Francisco, United States', 'San Ramon, California',\n",
       "       'Paris, Ile-de-France, France', 'Plano, Texas, United States',\n",
       "       'Sydney', 'San Francisco Bay Area, Silicon Valley, West Coast',\n",
       "       'Bangaldesh', 'London, England, United Kingdom',\n",
       "       'Sydney, New South Wales, Australia', 'Milano, Lombardia, Italy',\n",
       "       'Palmwoods, Queensland, Australia', 'France',\n",
       "       'San Francisco Bay Area, West Coast, Western US',\n",
       "       'Trivandrum, Kerala, India', 'Cochin', 'Samastipur, Bihar',\n",
       "       'Irvine, California, United States', 'Tumkur, Karnataka',\n",
       "       'Newcastle Upon Tyne, Newcastle upon Tyne, United Kingdom',\n",
       "       'Shanghai, China', 'Jiaxing, Zhejiang, China', 'Rajastan', 'Kochi',\n",
       "       'Ludhiana', 'Dehradun', 'San Franciscao', 'San Francisco',\n",
       "       'Tangerang, Jawa Barat, Indonesia', 'Berlin', 'Seattle', 'Riyadh',\n",
       "       'Seoul', 'New York', 'Bangkok', 'Kanpur', 'Chandigarh', 'Warangal',\n",
       "       'Hyderebad', 'Odisha', 'Bihar', 'Goa', 'Tamil Nadu',\n",
       "       'Uttar Pradesh', 'Bhopal', 'Banglore', 'Coimbatore', 'Bengaluru'],\n",
       "      dtype=object)"
      ]
     },
     "execution_count": 100,
     "metadata": {},
     "output_type": "execute_result"
    }
   ],
   "source": [
    "df20['Location'].unique()"
   ]
  },
  {
   "cell_type": "code",
   "execution_count": 101,
   "metadata": {
    "tags": []
   },
   "outputs": [
    {
     "data": {
      "text/plain": [
       "array(['Bangalore', 'Mumbai', 'Gurugram', 'New Delhi', 'Hyderabad',\n",
       "       'Jaipur', 'Ahmadabad', 'Chennai', None,\n",
       "       'Small Towns, Andhra Pradesh', 'Goa', 'Rajsamand', 'Ranchi',\n",
       "       'Faridabad, Haryana', 'Gujarat', 'Pune', 'Thane', 'Computer Games',\n",
       "       'Cochin', 'Noida', 'Chandigarh', 'Gurgaon', 'Vadodara',\n",
       "       'Food & Beverages', 'Pharmaceuticals\\t#REF!', 'Gurugram\\t#REF!',\n",
       "       'Kolkata', 'Ahmedabad', 'Mohali', 'Haryana', 'Indore', 'Powai',\n",
       "       'Ghaziabad', 'Nagpur', 'West Bengal', 'Patna', 'Samsitpur',\n",
       "       'Lucknow', 'Telangana', 'Silvassa', 'Thiruvananthapuram',\n",
       "       'Faridabad', 'Roorkee', 'Ambernath', 'Panchkula', 'Surat',\n",
       "       'Coimbatore', 'Andheri', 'Mangalore', 'Telugana', 'Bhubaneswar',\n",
       "       'Kottayam', 'Beijing', 'Panaji', 'Satara', 'Orissia', 'Jodhpur',\n",
       "       'New York', 'Santra', 'Mountain View, CA', 'Trivandrum',\n",
       "       'Jharkhand', 'Kanpur', 'Bhilwara', 'Guwahati',\n",
       "       'Online Media\\t#REF!', 'Kochi', 'London',\n",
       "       'Information Technology & Services', 'The Nilgiris', 'Gandhinagar'],\n",
       "      dtype=object)"
      ]
     },
     "execution_count": 101,
     "metadata": {},
     "output_type": "execute_result"
    }
   ],
   "source": [
    "df21['Location'].unique()"
   ]
  },
  {
   "cell_type": "code",
   "execution_count": 103,
   "metadata": {
    "tags": []
   },
   "outputs": [
    {
     "data": {
      "text/html": [
       "<div>\n",
       "<style scoped>\n",
       "    .dataframe tbody tr th:only-of-type {\n",
       "        vertical-align: middle;\n",
       "    }\n",
       "\n",
       "    .dataframe tbody tr th {\n",
       "        vertical-align: top;\n",
       "    }\n",
       "\n",
       "    .dataframe thead th {\n",
       "        text-align: right;\n",
       "    }\n",
       "</style>\n",
       "<table border=\"1\" class=\"dataframe\">\n",
       "  <thead>\n",
       "    <tr style=\"text-align: right;\">\n",
       "      <th></th>\n",
       "      <th>Company_Brand</th>\n",
       "      <th>Sector</th>\n",
       "      <th>Stage</th>\n",
       "      <th>Location</th>\n",
       "      <th>About Company</th>\n",
       "      <th>Year</th>\n",
       "      <th>Currency</th>\n",
       "      <th>Amount</th>\n",
       "      <th>Founded</th>\n",
       "      <th>Founders</th>\n",
       "      <th>Investor</th>\n",
       "      <th>column10</th>\n",
       "    </tr>\n",
       "  </thead>\n",
       "  <tbody>\n",
       "    <tr>\n",
       "      <th>2846</th>\n",
       "      <td>Peak</td>\n",
       "      <td>Manchester, Greater Manchester</td>\n",
       "      <td>Series C</td>\n",
       "      <td>Information Technology &amp; Services</td>\n",
       "      <td>Peak helps the world's smartest companies put ...</td>\n",
       "      <td>2021</td>\n",
       "      <td>$</td>\n",
       "      <td>75000000.0</td>\n",
       "      <td>2014.0</td>\n",
       "      <td>Atul Sharma</td>\n",
       "      <td>SoftBank Vision Fund 2</td>\n",
       "      <td>NaN</td>\n",
       "    </tr>\n",
       "  </tbody>\n",
       "</table>\n",
       "</div>"
      ],
      "text/plain": [
       "     Company_Brand                          Sector     Stage  \\\n",
       "2846          Peak  Manchester, Greater Manchester  Series C   \n",
       "\n",
       "                               Location  \\\n",
       "2846  Information Technology & Services   \n",
       "\n",
       "                                          About Company  Year Currency  \\\n",
       "2846  Peak helps the world's smartest companies put ...  2021        $   \n",
       "\n",
       "          Amount  Founded     Founders                Investor column10  \n",
       "2846  75000000.0   2014.0  Atul Sharma  SoftBank Vision Fund 2      NaN  "
      ]
     },
     "execution_count": 103,
     "metadata": {},
     "output_type": "execute_result"
    }
   ],
   "source": [
    "#it=\n",
    "df[df['Location']=='Information Technology & Services']"
   ]
  },
  {
   "cell_type": "code",
   "execution_count": null,
   "metadata": {},
   "outputs": [],
   "source": []
  }
 ],
 "metadata": {
  "kernelspec": {
   "display_name": "Python 3 (ipykernel)",
   "language": "python",
   "name": "python3"
  },
  "language_info": {
   "codemirror_mode": {
    "name": "ipython",
    "version": 3
   },
   "file_extension": ".py",
   "mimetype": "text/x-python",
   "name": "python",
   "nbconvert_exporter": "python",
   "pygments_lexer": "ipython3",
   "version": "3.11.5"
  },
  "widgets": {
   "application/vnd.jupyter.widget-state+json": {
    "state": {},
    "version_major": 2,
    "version_minor": 0
   }
  }
 },
 "nbformat": 4,
 "nbformat_minor": 4
}
